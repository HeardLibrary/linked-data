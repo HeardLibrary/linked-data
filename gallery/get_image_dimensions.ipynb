{
 "cells": [
  {
   "cell_type": "markdown",
   "metadata": {},
   "source": [
    "# Code to check dimensions of images\n",
    "\n"
   ]
  },
  {
   "cell_type": "code",
   "execution_count": null,
   "metadata": {},
   "outputs": [],
   "source": [
    "from PIL import Image\n",
    "import os\n",
    "import csv\n",
    "\n",
    "# function to use in sort of simple list\n",
    "def sort_funct(row):\n",
    "    return row\n",
    "\n",
    "# write a list of dictionaries to a CSV file\n",
    "def write_dicts_to_csv(table, filename, fieldnames):\n",
    "    with open(filename, 'w', newline='', encoding='utf-8') as csv_file_object:\n",
    "        writer = csv.DictWriter(csv_file_object, fieldnames=fieldnames)\n",
    "        writer.writeheader()\n",
    "        for row in table:\n",
    "            writer.writerow(row)\n"
   ]
  },
  {
   "cell_type": "code",
   "execution_count": null,
   "metadata": {},
   "outputs": [],
   "source": [
    "\n",
    "working_directory = os.getcwd()\n",
    "image_dir = working_directory + '/gallery_images/'\n",
    "print(image_dir)\n",
    "image_names = os.listdir(image_dir)\n",
    "image_names.sort(key = sort_funct)\n",
    "image_names.remove('.DS_Store')\n",
    "image_names.remove('misoriented')"
   ]
  },
  {
   "cell_type": "code",
   "execution_count": null,
   "metadata": {},
   "outputs": [],
   "source": [
    "images = []\n",
    "for image_name in image_names:\n",
    "    image = {}\n",
    "    image['name'] = image_name\n",
    "    year = image_name[0:4]\n",
    "    rest = image_name[5:]\n",
    "    rest = rest[:-4] # remove the \".jpg\" from the end\n",
    "    accession = year + '.' + rest\n",
    "    #print(image_name, accession)\n",
    "    image['accession'] = accession\n",
    "    \n",
    "    image_path = image_dir + image_name\n",
    "    with Image.open(image_path) as img:\n",
    "        width, height = img.size\n",
    "    #print(height, width)\n",
    "    #print()\n",
    "    image['height'] = height\n",
    "    image['width'] = width\n",
    "    images.append(image)\n",
    "\n",
    "fieldnames = list(images[0].keys())\n",
    "write_dicts_to_csv(images, 'image_dimensions.csv', fieldnames)\n",
    "\n",
    "print('done')"
   ]
  },
  {
   "cell_type": "code",
   "execution_count": null,
   "metadata": {},
   "outputs": [],
   "source": []
  }
 ],
 "metadata": {
  "kernelspec": {
   "display_name": "Python 3",
   "language": "python",
   "name": "python3"
  },
  "language_info": {
   "codemirror_mode": {
    "name": "ipython",
    "version": 3
   },
   "file_extension": ".py",
   "mimetype": "text/x-python",
   "name": "python",
   "nbconvert_exporter": "python",
   "pygments_lexer": "ipython3",
   "version": "3.8.5"
  }
 },
 "nbformat": 4,
 "nbformat_minor": 2
}

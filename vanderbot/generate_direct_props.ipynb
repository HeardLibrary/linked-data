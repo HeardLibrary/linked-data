{
 "cells": [
  {
   "cell_type": "code",
   "execution_count": 2,
   "metadata": {},
   "outputs": [],
   "source": [
    "import requests   # best library to manage HTTP transactions\n",
    "from bs4 import BeautifulSoup # web-scraping library\n",
    "import json\n",
    "from time import sleep\n",
    "import csv\n",
    "import math\n",
    "from fuzzywuzzy import fuzz # fuzzy logic matching\n",
    "from fuzzywuzzy import process\n",
    "import xml.etree.ElementTree as et # library to traverse XML tree\n",
    "import urllib\n",
    "import datetime\n",
    "import string\n",
    "from pathlib import Path\n",
    "\n",
    "# ---------------\n",
    "# Configuration data\n",
    "# ---------------\n",
    "\n",
    "graph_name = 'https://github.com/HeardLibrary/linked-data/blob/29e5d02aaf00cb890792d7dee73707603a506b3e/json_schema/bluffton_presidents.csv'\n",
    "accept_media_type = 'text/turtle'\n",
    "sparql_endpoint = \"https://sparql.vanderbilt.edu/sparql\"\n",
    "request_header_dictionary = {\n",
    "    #'Content-Type': 'application/sparql-query',\n",
    "    'Accept' : accept_media_type\n",
    "}\n",
    "\n",
    "# Load endpoint password from file in home directory\n",
    "directory = 'home'\n",
    "filename = 'sparql_vanderbilt_edu_password.txt'\n",
    "\n",
    "# ---------------\n",
    "# Function definitions\n",
    "# ---------------\n",
    "\n",
    "# Load password from local drive\n",
    "# value of directory should be either 'home' or 'working'\n",
    "def load_credential(filename, directory):\n",
    "    cred = ''\n",
    "    # to change the script to look for the credential in the working directory, change the value of home to empty string\n",
    "    if directory == 'home':\n",
    "        home = str(Path.home()) #gets path to home directory; supposed to work for Win and Mac\n",
    "        credential_path = home + '/' + filename\n",
    "    else:\n",
    "        directory = 'working'\n",
    "        credential_path = filename\n",
    "    try:\n",
    "        with open(credential_path, 'rt', encoding='utf-8') as file_object:\n",
    "            cred = file_object.read()\n",
    "    except:\n",
    "        print(filename + ' file not found - is it in your ' + directory + ' directory?')\n",
    "        exit()\n",
    "    return(cred)\n",
    "\n",
    "def retrieve_direct_statements(sparql_endpoint):\n",
    "    query = '''\n",
    "construct {?item ?directProp ?value.}\n",
    "from <''' + graph_name + '''>\n",
    "where {\n",
    "  ?item ?p ?statement.\n",
    "  ?statement ?ps ?value.\n",
    "  filter(substr(str(?ps),1,39)=\"http://www.wikidata.org/prop/statement/\")\n",
    "  bind(substr(str(?ps),40) as ?id)\n",
    "  bind(substr(str(?p),30) as ?id)\n",
    "  bind(iri(concat(\"http://www.wikidata.org/prop/direct/\", ?id)) as ?directProp)\n",
    "  }\n",
    "'''\n",
    "    results = []\n",
    "    r = requests.get(sparql_endpoint, params={'query' : query}, headers=request_header_dictionary)\n",
    "    return r.text\n",
    "\n",
    "def perform_sparql_update(sparql_endpoint, pwd, update_command):\n",
    "    # SPARQL Update requires HTTP POST\n",
    "    hdr = {'Content-Type' : 'application/sparql-update'}\n",
    "    r = requests.post(sparql_endpoint, auth=('admin', pwd), headers=hdr, data = update_command)\n",
    "    print(str(r.status_code) + ' ' + r.url)\n",
    "    print(r.text)\n"
   ]
  },
  {
   "cell_type": "code",
   "execution_count": 3,
   "metadata": {},
   "outputs": [
    {
     "name": "stdout",
     "output_type": "stream",
     "text": [
      "constructed triples retrieved\n"
     ]
    }
   ],
   "source": [
    "# ---------------\n",
    "# Construct the direct property statements entailed by the Wikibase model and retrieve from endpoint \n",
    "# ---------------\n",
    "pwd = load_credential(filename, directory)\n",
    "\n",
    "graph_text = retrieve_direct_statements(sparql_endpoint)\n",
    "#print(graph_text)\n",
    "print('constructed triples retrieved')"
   ]
  },
  {
   "cell_type": "code",
   "execution_count": 4,
   "metadata": {},
   "outputs": [],
   "source": [
    "# remove prefixes from response Turtle, which are not necessary since IRIs are unabbreviated\n",
    "graph_text_list = graph_text.split('\\n')\n",
    "# print(graph_text_list)\n",
    "graph_text = ''\n",
    "for line in graph_text_list:\n",
    "    try:\n",
    "        if line[0] != '@':\n",
    "            graph_text += line + '\\n'\n",
    "    except:\n",
    "        pass\n",
    "#print()\n",
    "#print(graph_text)"
   ]
  },
  {
   "cell_type": "code",
   "execution_count": 5,
   "metadata": {},
   "outputs": [
    {
     "name": "stdout",
     "output_type": "stream",
     "text": [
      "200 https://sparql.vanderbilt.edu/sparql\n",
      "<!DOCTYPE HTML PUBLIC \"-//W3C//DTD HTML 4.01 Transitional//EN\" \"http://www.w3.org/TR/html4/loose.dtd\"><html><head><meta http-equiv=\"Content-Type\" content=\"text&#47;html;charset=UTF-8\"><title>blazegraph&trade; by SYSTAP</title\n",
      "></head\n",
      "><body<p>totalElapsed=0ms, elapsed=0ms, connFlush=0ms, batchResolve=0, whereClause=0ms, deleteClause=0ms, insertClause=0ms</p\n",
      "><hr><p>COMMIT: totalElapsed=251ms, commitTime=1598157003429, mutationCount=40</p\n",
      "></html\n",
      ">\n",
      "\n",
      "done\n"
     ]
    }
   ],
   "source": [
    "# Send SPARQL 1.1 UPDATE to endpoint to add the constructed triples into the graph\n",
    "\n",
    "update_command = '''INSERT DATA\n",
    "{ GRAPH <''' + graph_name + '''> { \n",
    "''' + graph_text + '''\n",
    "}}'''\n",
    "\n",
    "#print(update_command)\n",
    "\n",
    "perform_sparql_update(sparql_endpoint, pwd, update_command)\n",
    "\n",
    "print()\n",
    "print('done')"
   ]
  },
  {
   "cell_type": "code",
   "execution_count": null,
   "metadata": {},
   "outputs": [],
   "source": []
  }
 ],
 "metadata": {
  "kernelspec": {
   "display_name": "Python 3",
   "language": "python",
   "name": "python3"
  },
  "language_info": {
   "codemirror_mode": {
    "name": "ipython",
    "version": 3
   },
   "file_extension": ".py",
   "mimetype": "text/x-python",
   "name": "python",
   "nbconvert_exporter": "python",
   "pygments_lexer": "ipython3",
   "version": "3.7.1"
  }
 },
 "nbformat": 4,
 "nbformat_minor": 2
}

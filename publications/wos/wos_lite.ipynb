{
 "cells": [
  {
   "cell_type": "markdown",
   "id": "joined-consensus",
   "metadata": {},
   "source": [
    "## Configuration\n",
    "\n",
    "Import modules, define functions, set configuration variables"
   ]
  },
  {
   "cell_type": "code",
   "execution_count": 2,
   "id": "stuffed-colombia",
   "metadata": {},
   "outputs": [
    {
     "name": "stdout",
     "output_type": "stream",
     "text": [
      "Collecting git+https://github.com/Clarivate-SAR/woslite_py_client.git\n",
      "  Cloning https://github.com/Clarivate-SAR/woslite_py_client.git to /private/var/folders/2b/nt7jy78d05101d79ts050ptr0000gp/T/pip-req-build-rdz1ppvf\n",
      "  Running command git clone -q https://github.com/Clarivate-SAR/woslite_py_client.git /private/var/folders/2b/nt7jy78d05101d79ts050ptr0000gp/T/pip-req-build-rdz1ppvf\n",
      "Requirement already satisfied: urllib3>=1.15 in /Library/Frameworks/Python.framework/Versions/3.7/lib/python3.7/site-packages (from swagger-client==1.0.0) (1.24.3)\n",
      "Requirement already satisfied: six>=1.10 in /Library/Frameworks/Python.framework/Versions/3.7/lib/python3.7/site-packages (from swagger-client==1.0.0) (1.15.0)\n",
      "Requirement already satisfied: certifi in /Library/Frameworks/Python.framework/Versions/3.7/lib/python3.7/site-packages (from swagger-client==1.0.0) (2018.4.16)\n",
      "Requirement already satisfied: python-dateutil in /Users/baskausj/Library/Python/3.7/lib/python/site-packages (from swagger-client==1.0.0) (2.8.0)\n",
      "Using legacy 'setup.py install' for swagger-client, since package 'wheel' is not installed.\n",
      "Installing collected packages: swagger-client\n",
      "    Running setup.py install for swagger-client ... \u001b[?25ldone\n",
      "\u001b[?25hSuccessfully installed swagger-client-1.0.0\n"
     ]
    }
   ],
   "source": [
    "# If the woslite_client to be located even though you installed it at the command line\n",
    "# try this suggestion from\n",
    "# https://jakevdp.github.io/blog/2017/12/05/installing-python-packages-from-jupyter/\n",
    "# You only need to do it once ever unless you reinstall Jupyter notebooks.\n",
    "\n",
    "# Install a pip package in the current Jupyter kernel\n",
    "import sys\n",
    "!{sys.executable} -m pip install git+https://github.com/Clarivate-SAR/woslite_py_client.git"
   ]
  },
  {
   "cell_type": "code",
   "execution_count": 4,
   "id": "quick-utility",
   "metadata": {},
   "outputs": [],
   "source": [
    "# Import modules\n",
    "from __future__ import print_function\n",
    "# The WOS Lite client must be built directly from GitHub using\n",
    "# pip3 install git+https://github.com/Clarivate-SAR/woslite_py_client.git\n",
    "import woslite_client\n",
    "from woslite_client.rest import ApiException\n",
    "from pprint import pprint # not really necessary, regular printing is fine\n",
    "from pathlib import Path\n",
    "import time\n",
    "\n",
    "# Configuration variables\n",
    "\n",
    "# Database to search. Must be a valid database ID, one of the following: \n",
    "# BCI/BIOABS/BIOSIS/CCC/DCI/DIIDW/MEDLINE/WOK/WOS/ZOOREC. WOK represents all databases.\n",
    "database_id = 'WOS'  # probably only valid value for API key, only authorized for WOS Lite\n",
    "lang = 'en'  # str | Language of search. This element can take only one value: en for English. If no language is specified, English is passed by default. (optional)\n",
    "\n",
    "# This function will load some credential from a text file, either in the home directory or current working directory\n",
    "# The value of the directory variable should be either 'home' or 'working'\n",
    "# Keeping the credential in the home directory prevents accidentally uploading it with the notebook.\n",
    "# The function returns a single string, so if there is more than one credential (e.g. key plus secret), additional\n",
    "# parsing of the return value may be required. \n",
    "def load_credential(filename, directory):\n",
    "    cred = ''\n",
    "    # to change the script to look for the credential in the working directory, change the value of home to empty string\n",
    "    if directory == 'home':\n",
    "        home = str(Path.home()) #gets path to home directory; works for both Win and Mac\n",
    "        credential_path = home + '/' + filename\n",
    "    else:\n",
    "        directory = 'working'\n",
    "        credential_path = filename\n",
    "    try:\n",
    "        with open(credential_path, 'rt', encoding='utf-8') as file_object:\n",
    "            cred = file_object.read()\n",
    "    except:\n",
    "        print(filename + ' file not found - is it in your ' + directory + ' directory?')\n",
    "        exit()\n",
    "    return(cred)\n"
   ]
  },
  {
   "cell_type": "markdown",
   "id": "terminal-minute",
   "metadata": {},
   "source": [
    "## Instantiate API objects\n",
    "\n",
    "For testing, this cell only needs to be run once. The instances can be reused for multiple API calls in later cells"
   ]
  },
  {
   "cell_type": "code",
   "execution_count": 5,
   "id": "subject-employee",
   "metadata": {},
   "outputs": [
    {
     "name": "stdout",
     "output_type": "stream",
     "text": [
      "done\n"
     ]
    }
   ],
   "source": [
    "# Load the API key from plain text file\n",
    "# Key is a single random hex string on one line in the file with no trailing newline\n",
    "clarivate_api_key = load_credential('clarivate_api_key.txt', 'home')\n",
    "\n",
    "# Configure API key authorization: key\n",
    "configuration = woslite_client.Configuration()\n",
    "configuration.api_key['X-ApiKey'] = clarivate_api_key\n",
    "\n",
    "# create an instance of the API class\n",
    "integration_api_instance = woslite_client.IntegrationApi(woslite_client.ApiClient(configuration))\n",
    "search_api_instance = woslite_client.SearchApi(woslite_client.ApiClient(configuration))\n",
    "\n",
    "print('done')"
   ]
  },
  {
   "cell_type": "markdown",
   "id": "rocky-anthropology",
   "metadata": {},
   "source": [
    "## Set search values\n",
    "\n",
    "These values are the same regardless of search type"
   ]
  },
  {
   "cell_type": "code",
   "execution_count": 6,
   "id": "macro-frederick",
   "metadata": {},
   "outputs": [],
   "source": [
    "# count. Number of records returned in the request\n",
    "# For testing, use 1.\n",
    "count = 1  # integer\n",
    "\n",
    "# first_record. Specific record, if any within the result set to return.\n",
    "# Cannot be less than 1 and greater than 100000.\n",
    "first_record = 1  # integer \n",
    "\n",
    "# Order by field(s). Field name and order by clause separated by '+', \n",
    "# use A for ASC and D for DESC, ex: PY+D.\n",
    "# Multiple values are separated by comma. (optional)\n",
    "sort_field = 'PY+D'  \n"
   ]
  },
  {
   "cell_type": "markdown",
   "id": "touched-albert",
   "metadata": {},
   "source": [
    "## Item search by ID\n",
    "\n",
    "This search uses the `integration_api_instance` to retrieve a record for a specific item or list of items separated by commas."
   ]
  },
  {
   "cell_type": "code",
   "execution_count": 7,
   "id": "duplicate-pharmacy",
   "metadata": {},
   "outputs": [
    {
     "name": "stdout",
     "output_type": "stream",
     "text": [
      "Response: \n",
      "{'data': [{'author': {'authors': ['Miura, Nobuhiko'],\n",
      "                      'book_authors': None,\n",
      "                      'book_group_authors': None},\n",
      "           'doctype': {'doctype': ['Article']},\n",
      "           'keyword': {'keywords': ['Cadmium',\n",
      "                                    'Occupational exposure',\n",
      "                                    'Metallothionein',\n",
      "                                    'Polymorphism']},\n",
      "           'other': {'contributor_researcher_id_names': None,\n",
      "                     'contributor_researcher_id_researcher_i_ds': None,\n",
      "                     'identifier_article_no': None,\n",
      "                     'identifier_doi': None,\n",
      "                     'identifier_eissn': ['1880-8026'],\n",
      "                     'identifier_ids': ['501HO'],\n",
      "                     'identifier_isbn': None,\n",
      "                     'identifier_issn': ['0019-8366'],\n",
      "                     'identifier_xref_doi': ['10.2486/indhealth.47.487'],\n",
      "                     'researcher_id_disclaimer': ['ResearcherID data provided '\n",
      "                                                  'by Clarivate Analytics']},\n",
      "           'source': {'book_series_title': None,\n",
      "                      'issue': ['5'],\n",
      "                      'pages': ['487-494'],\n",
      "                      'published_biblio_date': ['SEP'],\n",
      "                      'published_biblio_year': ['2009'],\n",
      "                      'source_title': ['INDUSTRIAL HEALTH'],\n",
      "                      'special_issue': ['SI'],\n",
      "                      'volume': ['47']},\n",
      "           'title': {'title': ['Individual Susceptibility to Cadmium Toxicity '\n",
      "                               'and Metallothionein Gene Polymorphisms: with '\n",
      "                               'References to Current Status of Occupational '\n",
      "                               'Cadmium Exposure']},\n",
      "           'ut': 'WOS:000270372400005'}],\n",
      " 'query_result': {'query_id': 3,\n",
      "                  'records_found': 1,\n",
      "                  'records_searched': 79142528}}\n",
      "'First author: Miura, Nobuhiko'\n"
     ]
    }
   ],
   "source": [
    "# unique_id. Primary item(s) id to be searched, ex: WOS:000270372400005. \n",
    "# Cannot be null or an empty string. Multiple values are separated by comma.\n",
    "unique_id = 'WOS:000270372400005'\n",
    "\n",
    "try:\n",
    "    # Find record(s) by specific id\n",
    "    api_response = integration_api_instance.id_unique_id_get(database_id, unique_id, count, first_record, lang=lang,\n",
    "                                                             sort_field=sort_field)\n",
    "    # for more details look at the models\n",
    "    firstAuthor = api_response.data[0].author.authors[0]\n",
    "    print(\"Response: \")\n",
    "    pprint(api_response)\n",
    "    pprint(\"First author: \" + firstAuthor)\n",
    "except ApiException as e:\n",
    "    print(\"Exception when calling IntegrationApi->id_unique_id_get: %s\\\\n\" % e)\n"
   ]
  },
  {
   "cell_type": "markdown",
   "id": "persistent-network",
   "metadata": {},
   "source": [
    "## Search by query\n",
    "\n",
    "This search uses the `search_api_instance` to retrieve records based on search results."
   ]
  },
  {
   "cell_type": "code",
   "execution_count": 8,
   "id": "genetic-sapphire",
   "metadata": {},
   "outputs": [
    {
     "name": "stdout",
     "output_type": "stream",
     "text": [
      "Response: \n",
      "{'data': [{'author': {'authors': ['Benabbes, M.',\n",
      "                                  'Chentoufi, M. Alami',\n",
      "                                  'Mojemmi, B.',\n",
      "                                  'Benzeid, H.',\n",
      "                                  'Toure, H. A.',\n",
      "                                  'Cheikh, A.',\n",
      "                                  'Rahali, Y.',\n",
      "                                  'Idrissi, M. O. B.',\n",
      "                                  'Draoui, M.',\n",
      "                                  'Bouatia, M.'],\n",
      "                      'book_authors': None,\n",
      "                      'book_group_authors': None},\n",
      "           'doctype': {'doctype': ['Article']},\n",
      "           'keyword': {'keywords': ['Lead',\n",
      "                                    'cadmium',\n",
      "                                    'heavy metals',\n",
      "                                    'cosmetic and polarography']},\n",
      "           'other': {'contributor_researcher_id_names': None,\n",
      "                     'contributor_researcher_id_researcher_i_ds': None,\n",
      "                     'identifier_article_no': None,\n",
      "                     'identifier_doi': ['10.4152/pea.202101037'],\n",
      "                     'identifier_eissn': None,\n",
      "                     'identifier_ids': ['PN6WF'],\n",
      "                     'identifier_isbn': None,\n",
      "                     'identifier_issn': ['0872-1904'],\n",
      "                     'identifier_xref_doi': None,\n",
      "                     'researcher_id_disclaimer': ['ResearcherID data provided '\n",
      "                                                  'by Clarivate Analytics']},\n",
      "           'source': {'book_series_title': None,\n",
      "                      'issue': ['1'],\n",
      "                      'pages': ['37-44'],\n",
      "                      'published_biblio_date': ['DEC 30'],\n",
      "                      'published_biblio_year': ['2021'],\n",
      "                      'source_title': ['PORTUGALIAE ELECTROCHIMICA ACTA'],\n",
      "                      'special_issue': None,\n",
      "                      'volume': ['39']},\n",
      "           'title': {'title': ['Determination of Lead and Cadmium in Synthetic '\n",
      "                               'and Natural Hair Dyes in Morocco Using '\n",
      "                               'Differential Pulse Polarography']},\n",
      "           'ut': 'WOS:000604616600003'}],\n",
      " 'query_result': {'query_id': 4,\n",
      "                  'records_found': 143796,\n",
      "                  'records_searched': 79142528}}\n",
      "'First author: Benabbes, M.'\n"
     ]
    }
   ],
   "source": [
    "# usr_query. User query for requesting data, ex: TS=(cadmium). \n",
    "# The query parser will return errors for invalid queries.\n",
    "usr_query = 'TS=(cadmium)'\n",
    "\n",
    "try:\n",
    "    # Find record(s) by user query\n",
    "    api_response = search_api_instance.root_get(database_id, usr_query, count, first_record, lang=lang,\n",
    "                                                             sort_field=sort_field)\n",
    "    # for more details look at the models\n",
    "    firstAuthor = api_response.data[0].author.authors[0]\n",
    "    print(\"Response: \")\n",
    "    pprint(api_response)\n",
    "    pprint(\"First author: \" + firstAuthor)\n",
    "except ApiException as e:\n",
    "    print(\"Exception when calling SearchApi->root_get: %s\\\\n\" % e)\n"
   ]
  },
  {
   "cell_type": "code",
   "execution_count": null,
   "id": "israeli-candy",
   "metadata": {},
   "outputs": [],
   "source": []
  }
 ],
 "metadata": {
  "kernelspec": {
   "display_name": "Python 3",
   "language": "python",
   "name": "python3"
  },
  "language_info": {
   "codemirror_mode": {
    "name": "ipython",
    "version": 3
   },
   "file_extension": ".py",
   "mimetype": "text/x-python",
   "name": "python",
   "nbconvert_exporter": "python",
   "pygments_lexer": "ipython3",
   "version": "3.7.0"
  }
 },
 "nbformat": 4,
 "nbformat_minor": 5
}

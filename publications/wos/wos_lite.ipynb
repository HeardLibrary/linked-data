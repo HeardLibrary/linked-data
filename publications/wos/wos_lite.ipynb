{
 "cells": [
  {
   "cell_type": "markdown",
   "id": "guilty-nursery",
   "metadata": {},
   "source": [
    "## Run only once!\n",
    "\n",
    "This first cell only needs to be run once to install the WOS Lite SDK"
   ]
  },
  {
   "cell_type": "code",
   "execution_count": null,
   "id": "stuffed-colombia",
   "metadata": {},
   "outputs": [],
   "source": [
    "# If the woslite_client to be located even though you installed it at the command line\n",
    "# try this suggestion from\n",
    "# https://jakevdp.github.io/blog/2017/12/05/installing-python-packages-from-jupyter/\n",
    "# You only need to do it once ever unless you reinstall Jupyter notebooks.\n",
    "\n",
    "# Install a pip package in the current Jupyter kernel\n",
    "import sys\n",
    "!{sys.executable} -m pip install git+https://github.com/Clarivate-SAR/woslite_py_client.git"
   ]
  },
  {
   "cell_type": "markdown",
   "id": "joined-consensus",
   "metadata": {},
   "source": [
    "## Configuration\n",
    "\n",
    "Import modules, define functions, set configuration variables"
   ]
  },
  {
   "cell_type": "code",
   "execution_count": null,
   "id": "quick-utility",
   "metadata": {},
   "outputs": [],
   "source": [
    "# Import modules\n",
    "from __future__ import print_function\n",
    "# The WOS Lite client must be built directly from GitHub using\n",
    "# pip3 install git+https://github.com/Clarivate-SAR/woslite_py_client.git\n",
    "import woslite_client\n",
    "from woslite_client.rest import ApiException\n",
    "from pprint import pprint # not really necessary, regular printing is fine\n",
    "from pathlib import Path\n",
    "import time\n",
    "\n",
    "# Configuration variables\n",
    "\n",
    "# Database to search. Must be a valid database ID, one of the following: \n",
    "# BCI/BIOABS/BIOSIS/CCC/DCI/DIIDW/MEDLINE/WOK/WOS/ZOOREC. WOK represents all databases.\n",
    "database_id = 'WOS'  # probably only valid value for API key, only authorized for WOS Lite\n",
    "lang = 'en'  # str | Language of search. This element can take only one value: en for English. If no language is specified, English is passed by default. (optional)\n",
    "\n",
    "# This function will load some credential from a text file, either in the home directory or current working directory\n",
    "# The value of the directory variable should be either 'home' or 'working'\n",
    "# Keeping the credential in the home directory prevents accidentally uploading it with the notebook.\n",
    "# The function returns a single string, so if there is more than one credential (e.g. key plus secret), additional\n",
    "# parsing of the return value may be required. \n",
    "def load_credential(filename, directory):\n",
    "    cred = ''\n",
    "    # to change the script to look for the credential in the working directory, change the value of home to empty string\n",
    "    if directory == 'home':\n",
    "        home = str(Path.home()) #gets path to home directory; works for both Win and Mac\n",
    "        credential_path = home + '/' + filename\n",
    "    else:\n",
    "        directory = 'working'\n",
    "        credential_path = filename\n",
    "    try:\n",
    "        with open(credential_path, 'rt', encoding='utf-8') as file_object:\n",
    "            cred = file_object.read()\n",
    "    except:\n",
    "        print(filename + ' file not found - is it in your ' + directory + ' directory?')\n",
    "        exit()\n",
    "    return(cred)\n"
   ]
  },
  {
   "cell_type": "markdown",
   "id": "terminal-minute",
   "metadata": {},
   "source": [
    "## Instantiate API objects\n",
    "\n",
    "For testing, this cell only needs to be run once each time the notebook is opened. The instances can be reused for multiple API calls in later cells"
   ]
  },
  {
   "cell_type": "code",
   "execution_count": null,
   "id": "subject-employee",
   "metadata": {},
   "outputs": [],
   "source": [
    "# Load the API key from plain text file\n",
    "# Key is a single random hex string on one line in the file with no trailing newline\n",
    "clarivate_api_key = load_credential('clarivate_api_key.txt', 'home')\n",
    "\n",
    "# Configure API key authorization: key\n",
    "configuration = woslite_client.Configuration()\n",
    "configuration.api_key['X-ApiKey'] = clarivate_api_key\n",
    "\n",
    "# create an instance of the API class\n",
    "integration_api_instance = woslite_client.IntegrationApi(woslite_client.ApiClient(configuration))\n",
    "search_api_instance = woslite_client.SearchApi(woslite_client.ApiClient(configuration))\n",
    "\n",
    "print('done')"
   ]
  },
  {
   "cell_type": "markdown",
   "id": "rocky-anthropology",
   "metadata": {},
   "source": [
    "## Set search values\n",
    "\n",
    "These values are the same regardless of search type"
   ]
  },
  {
   "cell_type": "code",
   "execution_count": null,
   "id": "macro-frederick",
   "metadata": {},
   "outputs": [],
   "source": [
    "# count. Number of records returned in the request\n",
    "# For testing, use 1. Max is 100.\n",
    "count = 10  # integer\n",
    "\n",
    "# first_record. Specific record, if any within the result set to return.\n",
    "# Cannot be less than 1 and greater than 100000.\n",
    "first_record = 11  # integer \n",
    "\n",
    "# Order by field(s). Field name and order by clause separated by '+', \n",
    "# use A for ASC and D for DESC, ex: PY+D.\n",
    "# Multiple values are separated by comma. (optional)\n",
    "sort_field = 'PY+D'  \n"
   ]
  },
  {
   "cell_type": "markdown",
   "id": "persistent-network",
   "metadata": {},
   "source": [
    "## Search by query\n",
    "\n",
    "This search uses the `search_api_instance` to retrieve records based on search results.\n",
    "\n",
    "```\n",
    "AD=Address\n",
    "AI=Author Identifiers (ResearcherID and ORCID) \n",
    "AU=Author \n",
    "CF=Conference\n",
    "CI=City\n",
    "CU=Country\n",
    "DO=DOI\n",
    "ED=Editor\n",
    "FG=Grant Number \n",
    "FO=Funding Agency \n",
    "FT=Funding Text \n",
    "GP=Group Author \n",
    "IS=ISSN/ISBN\n",
    "OG=Organization - Enhanced \n",
    "OO=Organization \n",
    "PMID=PubMed ID \n",
    "PS=Province/State\n",
    "PY=Year Published \n",
    "SA=Street Address \n",
    "SG=Suborganization \n",
    "SO=Publication Name \n",
    "SU=Research Area \n",
    "TI=Title\n",
    "TS=Topic\n",
    "UT=Accession Number \n",
    "WC=Web of Science Category \n",
    "ZP=Zip/Postal Code\n",
    "\n",
    "Example: TS=particle swarm AND PY=(2007 OR 2008)\n",
    "```\n",
    "\n",
    "The API details are at their [Swagger site](https://api.dev-stable.clarivate.com/swagger-ui/?url=https%3A%2F%2Fdeveloper.dev-stable.clarivate.com%2Fapis%2Fwoslite%2Fswagger)"
   ]
  },
  {
   "cell_type": "code",
   "execution_count": null,
   "id": "genetic-sapphire",
   "metadata": {},
   "outputs": [],
   "source": [
    "# usr_query. User query for requesting data, ex: TS=(cadmium). \n",
    "# The query parser will return errors for invalid queries.\n",
    "\n",
    "#usr_query = 'OG=(Vanderbilt University OR Vanderbilt University Peabody College) AND AI=(0000-0003-0328-0792)'\n",
    "#usr_query = 'AU=(Baskauf CJ)'\n",
    "#usr_query = 'AI=(0000-0003-4365-3135)'\n",
    "usr_query = 'OG=(Vanderbilt University OR Vanderbilt University Peabody College)'\n",
    "\n",
    "try:\n",
    "    # Find record(s) by user query\n",
    "    api_response = search_api_instance.root_get(database_id, \n",
    "                                                usr_query, \n",
    "                                                count, \n",
    "                                                first_record, \n",
    "                                                lang=lang,\n",
    "                                                publish_time_span='2020-12-01+2020-12-31',\n",
    "                                                #load_time_span='4M',\n",
    "                                                sort_field=sort_field)\n",
    "    # for more details look at the models\n",
    "    #firstAuthor = api_response.data[0].author.authors[0]\n",
    "    print(\"Response: \")\n",
    "    pprint(api_response)\n",
    "    #pprint(\"First author: \" + firstAuthor)\n",
    "except ApiException as e:\n",
    "    print(\"Exception when calling SearchApi->root_get: %s\\\\n\" % e)\n"
   ]
  },
  {
   "cell_type": "markdown",
   "id": "touched-albert",
   "metadata": {},
   "source": [
    "## Item search by ID\n",
    "\n",
    "This search uses the `integration_api_instance` to retrieve a record for a specific item or list of items separated by commas."
   ]
  },
  {
   "cell_type": "code",
   "execution_count": null,
   "id": "duplicate-pharmacy",
   "metadata": {},
   "outputs": [],
   "source": [
    "# unique_id. Primary item(s) id to be searched, ex: WOS:000270372400005. \n",
    "# Cannot be null or an empty string. Multiple values are separated by comma.\n",
    "unique_id = 'WOS:000270372400005'\n",
    "\n",
    "try:\n",
    "    # Find record(s) by specific id\n",
    "    api_response = integration_api_instance.id_unique_id_get(database_id, unique_id, count, first_record, lang=lang,\n",
    "                                                             sort_field=sort_field)\n",
    "    # for more details look at the models\n",
    "    firstAuthor = api_response.data[0].author.authors[0]\n",
    "    print(\"Response: \")\n",
    "    pprint(api_response)\n",
    "    pprint(\"First author: \" + firstAuthor)\n",
    "except ApiException as e:\n",
    "    print(\"Exception when calling IntegrationApi->id_unique_id_get: %s\\\\n\" % e)\n"
   ]
  },
  {
   "cell_type": "code",
   "execution_count": null,
   "id": "unique-investor",
   "metadata": {},
   "outputs": [],
   "source": []
  }
 ],
 "metadata": {
  "kernelspec": {
   "display_name": "Python 3",
   "language": "python",
   "name": "python3"
  },
  "language_info": {
   "codemirror_mode": {
    "name": "ipython",
    "version": 3
   },
   "file_extension": ".py",
   "mimetype": "text/x-python",
   "name": "python",
   "nbconvert_exporter": "python",
   "pygments_lexer": "ipython3",
   "version": "3.7.0"
  }
 },
 "nbformat": 4,
 "nbformat_minor": 5
}

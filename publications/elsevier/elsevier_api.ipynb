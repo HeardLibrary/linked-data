{
 "cells": [
  {
   "attachments": {},
   "cell_type": "markdown",
   "id": "living-carpet",
   "metadata": {},
   "source": [
    "# General note\n",
    "\n",
    "The success and failure of the various code blocks probably depends on the access allowed by your subscription and whether you have the additional \"institutional token\" that must be requested specially. I don't have that, but I'm not sure which of the failures are related to that. \n",
    "\n",
    "It also apparently uses your IP address to determine what you can access. I'm using the Vanderbilt VPN, so presumably it should be allowing me to use whatever I can access due to the VU subscriptions."
   ]
  },
  {
   "attachments": {},
   "cell_type": "markdown",
   "id": "second-annual",
   "metadata": {},
   "source": [
    "## Run only once!\n",
    "\n",
    "This first cell only needs to be run once to install the Elsevier elsapy SDK"
   ]
  },
  {
   "cell_type": "code",
   "execution_count": null,
   "id": "stuffed-colombia",
   "metadata": {},
   "outputs": [],
   "source": [
    "# If the elsapy module can't be located even though you installed it at the command line\n",
    "# try this suggestion from\n",
    "# https://jakevdp.github.io/blog/2017/12/05/installing-python-packages-from-jupyter/\n",
    "# You only need to do it once ever unless you reinstall Jupyter notebooks.\n",
    "\n",
    "# Install a pip package in the current Jupyter kernel\n",
    "import sys\n",
    "!{sys.executable} -m pip install elsapy"
   ]
  },
  {
   "attachments": {},
   "cell_type": "markdown",
   "id": "joined-consensus",
   "metadata": {},
   "source": [
    "## Configuration\n",
    "\n",
    "Import modules, define functions, set configuration variables"
   ]
  },
  {
   "cell_type": "code",
   "execution_count": null,
   "id": "quick-utility",
   "metadata": {},
   "outputs": [],
   "source": [
    "# elsapy documentation: https://elsevierdev.github.io/elsapy/\n",
    "\n",
    "\n",
    "# Import modules\n",
    "from elsapy.elsclient import ElsClient\n",
    "from elsapy.elsprofile import ElsAuthor, ElsAffil\n",
    "from elsapy.elsdoc import FullDoc, AbsDoc\n",
    "from elsapy.elssearch import ElsSearch\n",
    "import json\n",
    "from pathlib import Path\n",
    "import time\n",
    "import requests\n",
    "\n",
    "# Configuration variables\n",
    "\n",
    "# I am not sure what this is for. The value is the one in their example, which doesn't work\n",
    "elsevier_author_id = '7004367821'\n",
    "\n",
    "# I am not sure what this is for. The value is the one in their example, which doesn't work\n",
    "elsevier_institutional_affiliation = '60101411'\n",
    "\n",
    "# This function will load some credential from a text file, either in the home directory or current working directory\n",
    "# The value of the directory variable should be either 'home' or 'working'\n",
    "# Keeping the credential in the home directory prevents accidentally uploading it with the notebook.\n",
    "# The function returns a single string, so if there is more than one credential (e.g. key plus secret), additional\n",
    "# parsing of the return value may be required. \n",
    "def load_credential(filename, directory):\n",
    "    cred = ''\n",
    "    # to change the script to look for the credential in the working directory, change the value of home to empty string\n",
    "    if directory == 'home':\n",
    "        home = str(Path.home()) #gets path to home directory; works for both Win and Mac\n",
    "        credential_path = home + '/' + filename\n",
    "    else:\n",
    "        directory = 'working'\n",
    "        credential_path = filename\n",
    "    try:\n",
    "        with open(credential_path, 'rt', encoding='utf-8') as file_object:\n",
    "            cred = file_object.read()\n",
    "    except:\n",
    "        print(filename + ' file not found - is it in your ' + directory + ' directory?')\n",
    "        exit()\n",
    "    return(cred)\n"
   ]
  },
  {
   "attachments": {},
   "cell_type": "markdown",
   "id": "f92bff6f",
   "metadata": {},
   "source": [
    "# Attempt direct access to API without using Python client library\n"
   ]
  },
  {
   "cell_type": "code",
   "execution_count": null,
   "id": "5b57e755",
   "metadata": {},
   "outputs": [],
   "source": [
    "# API specifiction landing page: https://dev.elsevier.com/api_docs.html\n",
    "# For author search info, see https://dev.elsevier.com/documentation/AuthorSearchAPI.wadl\n",
    "\n",
    "# Test the author search API\n",
    "endpoint_resource_url = 'https://api.elsevier.com/content/search/author'\n",
    "# NOTE: I was able to generate the API key myself using the Elsevier Developer Portal. However, for some reason it gave me access to the\n",
    "# Scopus API, but not the Author Search API. I had to request access to the Author Search API from Elsevier support and they gave me\n",
    "# an institutional token that is an additional requirement for me to get the Author Search API to work. \n",
    "header_parameters = {\n",
    "    'Accept': 'application/json', \n",
    "    'X-ELS-APIKey': load_credential('elsevier-api-key.txt', 'home'),\n",
    "    'X-ELS-Insttoken': load_credential('elsevier-inst-token.txt', 'home')\n",
    "    }\n",
    "query_parameters = {\n",
    "    'query': 'authlast(Chen)',\n",
    "    }\n",
    "\n",
    "response = requests.get(endpoint_resource_url, headers=header_parameters, params=query_parameters)\n",
    "print(response.status_code)\n",
    "print(response.text)\n"
   ]
  },
  {
   "cell_type": "code",
   "execution_count": null,
   "id": "ecba84ff",
   "metadata": {},
   "outputs": [],
   "source": [
    "# Test the article search API\n",
    "# Scopus search info: https://dev.elsevier.com/documentation/ScopusSearchAPI.wadl\n",
    "endpoint_resource_url = 'https://api.elsevier.com/content/search/scopus'\n",
    "header_parameters = {\n",
    "    'Accept': 'application/json', \n",
    "    'X-ELS-APIKey': load_credential('elsevier-api-key.txt', 'home')\n",
    "    }\n",
    "query_parameters = {\n",
    "    'query': 'heart+attack',\n",
    "    }\n",
    "\n",
    "response = requests.get(endpoint_resource_url, headers=header_parameters, params=query_parameters)\n",
    "print(response.status_code)\n",
    "print(response.text)\n"
   ]
  },
  {
   "attachments": {},
   "cell_type": "markdown",
   "id": "terminal-minute",
   "metadata": {},
   "source": [
    "## Instantiate API objects\n",
    "\n",
    "For testing, this cell only needs to be run once each time the notebook is opened. The instances can be reused for multiple API calls in later cells"
   ]
  },
  {
   "cell_type": "code",
   "execution_count": null,
   "id": "subject-employee",
   "metadata": {},
   "outputs": [],
   "source": [
    "# Load the API key from plain text file\n",
    "# Key is a single string on one line in the file with no trailing newline\n",
    "api_key = load_credential('elsevier-api-key.txt', 'home')\n",
    "\n",
    "# Initialize client\n",
    "client = ElsClient(api_key)\n",
    "# This sets an attribute for an institutional token that must be requested specially to\n",
    "# access resources that are limited by the institutional subscriptions.\n",
    "#client.inst_token = institutional_token\n",
    "\n",
    "\n",
    "\n",
    "print('done')"
   ]
  },
  {
   "attachments": {},
   "cell_type": "markdown",
   "id": "rocky-anthropology",
   "metadata": {},
   "source": [
    "## Author example\n",
    "\n",
    "Doesn't work"
   ]
  },
  {
   "cell_type": "code",
   "execution_count": null,
   "id": "2f48e8c5",
   "metadata": {},
   "outputs": [],
   "source": [
    "# Initialize author with uri\n",
    "my_auth = ElsAuthor(\n",
    "        uri = 'http://api.elsevier.com/content/author/AUTHOR_ID/7202909704')"
   ]
  },
  {
   "cell_type": "code",
   "execution_count": null,
   "id": "e6c80a52",
   "metadata": {},
   "outputs": [],
   "source": [
    "my_auth.read(client)"
   ]
  },
  {
   "cell_type": "code",
   "execution_count": null,
   "id": "c8de59ea",
   "metadata": {},
   "outputs": [],
   "source": [
    "my_auth.full_name\n"
   ]
  },
  {
   "cell_type": "code",
   "execution_count": null,
   "id": "agreed-garage",
   "metadata": {},
   "outputs": [],
   "source": [
    "## Author example\n",
    "# Initialize author with uri\n",
    "my_auth = ElsAuthor(\n",
    "        uri = 'https://api.elsevier.com/content/author/author_id/7004367821')\n",
    "# Read author data, then write to disk\n",
    "if my_auth.read(client):\n",
    "    print (\"my_auth.full_name: \", my_auth.full_name)\n",
    "    my_auth.write()\n",
    "else:\n",
    "    print (\"Read author failed.\")\n"
   ]
  },
  {
   "cell_type": "code",
   "execution_count": null,
   "id": "expensive-uganda",
   "metadata": {},
   "outputs": [],
   "source": [
    "## Load list of documents from the API into affilation and author objects.\n",
    "# Since a document list is retrieved for 25 entries at a time, this is\n",
    "#  a potentially lenghty operation.\n",
    "\n",
    "## Read all documents for example author, then write to disk\n",
    "if my_auth.read_docs(client):\n",
    "    print (\"my_auth.doc_list has \" + str(len(my_auth.doc_list)) + \" items.\")\n",
    "    my_auth.write_docs()\n",
    "else:\n",
    "    print (\"Read docs for author failed.\")\n"
   ]
  },
  {
   "attachments": {},
   "cell_type": "markdown",
   "id": "moving-paper",
   "metadata": {},
   "source": [
    "## Affiliation example\n",
    "\n",
    "Doesn't work"
   ]
  },
  {
   "cell_type": "code",
   "execution_count": null,
   "id": "vulnerable-speed",
   "metadata": {},
   "outputs": [],
   "source": [
    "## Affiliation example\n",
    "# Initialize affiliation with ID as string\n",
    "my_aff = ElsAffil(affil_id = '60101411')\n",
    "if my_aff.read(client):\n",
    "    print (\"my_aff.name: \", my_aff.name)\n",
    "    my_aff.write()\n",
    "else:\n",
    "    print (\"Read affiliation failed.\")\n"
   ]
  },
  {
   "cell_type": "code",
   "execution_count": null,
   "id": "logical-robin",
   "metadata": {},
   "outputs": [],
   "source": [
    "## Load list of documents from the API into affilation and author objects.\n",
    "# Since a document list is retrieved for 25 entries at a time, this is\n",
    "#  a potentially lenghty operation.\n",
    "\n",
    "## Read all documents for example affiliation, then write to disk\n",
    "if my_aff.read_docs(client):\n",
    "    print (\"my_aff.doc_list has \" + str(len(my_aff.doc_list)) + \" items.\")\n",
    "    my_aff.write_docs()\n",
    "else:\n",
    "    print (\"Read docs for affiliation failed.\")\n"
   ]
  },
  {
   "attachments": {},
   "cell_type": "markdown",
   "id": "urban-steering",
   "metadata": {},
   "source": [
    "## Scopus abstract example"
   ]
  },
  {
   "cell_type": "code",
   "execution_count": null,
   "id": "sized-astrology",
   "metadata": {},
   "outputs": [],
   "source": [
    "## Scopus (Abtract) document example\n",
    "# Initialize document with ID as integer\n",
    "scp_doc = AbsDoc(scp_id = 84872135457)\n",
    "if scp_doc.read(client):\n",
    "    print (\"scp_doc.title: \", scp_doc.title)\n",
    "    print(json.dumps(scp_doc.data, indent=2))\n",
    "    # The .write() method writes the results to a file in a \"data\" subdirectory of the\n",
    "    # current working directory.\n",
    "    #scp_doc.write()   \n",
    "else:\n",
    "    print (\"Read document failed.\")"
   ]
  },
  {
   "attachments": {},
   "cell_type": "markdown",
   "id": "strategic-inspection",
   "metadata": {},
   "source": [
    "## ScienceDirect full-text document example\n"
   ]
  },
  {
   "cell_type": "code",
   "execution_count": null,
   "id": "remarkable-paste",
   "metadata": {},
   "outputs": [],
   "source": [
    "## ScienceDirect (full-text) document example using PII\n",
    "doc = FullDoc(sd_pii = 'S1674927814000082')\n",
    "#doc = FullDoc(doi = '10.1016/S1525-1578(10)60571-5')\n",
    "if doc.read(client):\n",
    "    print (\"Document title: \", doc.title)\n",
    "    print(json.dumps(doc.data, indent=2))\n",
    "    #doc.write()   \n",
    "else:\n",
    "    print (\"Read document failed.\")\n"
   ]
  },
  {
   "attachments": {},
   "cell_type": "markdown",
   "id": "suitable-chapel",
   "metadata": {},
   "source": [
    "## Search using ElsSearch\n",
    "\n",
    "Results in an authorization error: \"The requestor is not authorized to access the requested view or fields of the resource\""
   ]
  },
  {
   "cell_type": "code",
   "execution_count": null,
   "id": "ethical-major",
   "metadata": {},
   "outputs": [],
   "source": [
    "## Initialize search object and execute search\n",
    "#srch = ElsSearch('authlast(keuskamp)','author')\n",
    "aff_srch = ElsSearch('affil(amsterdam)','affiliation')\n",
    "srch.execute(client)\n",
    "print (\"search has\", len(srch.results), \"results.\")\n"
   ]
  },
  {
   "attachments": {},
   "cell_type": "markdown",
   "id": "forward-dispatch",
   "metadata": {},
   "source": [
    "Got results with the scopus search, but sciencedirect produces the same authorization error: \"The requestor is not authorized to access the requested view or fields of the resource\""
   ]
  },
  {
   "cell_type": "code",
   "execution_count": null,
   "id": "frequent-cancer",
   "metadata": {},
   "outputs": [],
   "source": [
    "## Initialize doc search object and execute search, retrieving all results\n",
    "doc_srch = ElsSearch(\"AFFIL(vanderbilt) AND AUTHOR-NAME(baskauf s)\",'scopus')\n",
    "#doc_srch = ElsSearch(\"AFFIL(dartmouth) AND AUTHOR-NAME(lewis) AND PUBYEAR > 2011\",'scopus')\n",
    "#doc_srch = ElsSearch(\"star trek vs star wars\",'sciencedirect')\n",
    "#doc_srch.execute(client, get_all = True)\n",
    "doc_srch.execute(client, get_all = False)\n",
    "print (\"doc_srch has\", len(doc_srch.results), \"results.\")\n",
    "print(json.dumps(doc_srch.results, indent=2))\n",
    "\n",
    "# NOTE: for whatever reason, this automatically saved the results in a file called dump.json \n",
    "# in the active working directory. Not sure how this is controlled."
   ]
  },
  {
   "cell_type": "code",
   "execution_count": null,
   "id": "painted-actor",
   "metadata": {},
   "outputs": [],
   "source": []
  }
 ],
 "metadata": {
  "kernelspec": {
   "display_name": "Python 3",
   "language": "python",
   "name": "python3"
  },
  "language_info": {
   "codemirror_mode": {
    "name": "ipython",
    "version": 3
   },
   "file_extension": ".py",
   "mimetype": "text/x-python",
   "name": "python",
   "nbconvert_exporter": "python",
   "pygments_lexer": "ipython3",
   "version": "3.8.5"
  }
 },
 "nbformat": 4,
 "nbformat_minor": 5
}

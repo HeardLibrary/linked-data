{
 "cells": [
  {
   "cell_type": "code",
   "execution_count": 64,
   "metadata": {},
   "outputs": [],
   "source": [
    "import requests   # best library to manage HTTP transactions\n",
    "from bs4 import BeautifulSoup # web-scraping library\n",
    "import json\n",
    "\n",
    "acceptMediaType = 'text/html'\n",
    "userAgentHeader = 'BaskaufScraper/0.1 (steve.baskauf@vanderbilt.edu)'\n",
    "requestHeaderDictionary = {\n",
    "    'Accept' : acceptMediaType,\n",
    "    'User-Agent': userAgentHeader\n",
    "}\n",
    "url = 'https://as.vanderbilt.edu/biosci/people/index.php?group=primary-training-faculty'\n",
    "response = requests.get(url, headers = requestHeaderDictionary)\n",
    "soupObject = BeautifulSoup(response.text,features=\"html5lib\")"
   ]
  },
  {
   "cell_type": "code",
   "execution_count": 65,
   "metadata": {},
   "outputs": [],
   "source": [
    "tableObject = soupObject.find_all('table')[0]\n",
    "#print(tableObject)"
   ]
  },
  {
   "cell_type": "code",
   "execution_count": 66,
   "metadata": {},
   "outputs": [],
   "source": [
    "rowObjectsList = tableObject.find_all('tr')\n",
    "#print(rowObjectsList)"
   ]
  },
  {
   "cell_type": "code",
   "execution_count": 67,
   "metadata": {},
   "outputs": [
    {
     "name": "stdout",
     "output_type": "stream",
     "text": [
      "[<td width=\"100\"><a class=\"pic\" href=\"/biosci/bio/laurence-zwiebel\"><img class=\"img-rounded\" src=\"/biosci/images/people/image.php/laurence-zwiebel.jpg?width=100&amp;image=/biosci/images/people/laurence-zwiebel.jpg\"/></a></td>, <td align=\"left\" class=\"biolink\"><strong><a href=\"/biosci/bio/laurence-zwiebel\">Laurence J. Zwiebel, Ph.D.</a></strong><br/>Cornelius Vanderbilt Chair in Biological Sciences<br/>Professor of Biological Sciences, Professor of Pharmacology</td>, <td class=\"contactinfo\" width=\"25%\"><a href=\"mailto:l.zwiebel@vanderbilt.edu\">Email</a><br/><a href=\"https://lamp.vanderbilt.edu/zwiebellab/Home.html\">Website</a><br/>615-343-1894<br/>6260 MRB III</td>]\n"
     ]
    }
   ],
   "source": [
    "rowObject = rowObjectsList[21]\n",
    "cellObjectsList = rowObject.find_all('td')\n",
    "print(cellObjectsList)"
   ]
  },
  {
   "cell_type": "code",
   "execution_count": 68,
   "metadata": {},
   "outputs": [
    {
     "name": "stdout",
     "output_type": "stream",
     "text": [
      "<td align=\"left\" class=\"biolink\"><strong><a href=\"/biosci/bio/laurence-zwiebel\">Laurence J. Zwiebel, Ph.D.</a></strong><br/>Cornelius Vanderbilt Chair in Biological Sciences<br/>Professor of Biological Sciences, Professor of Pharmacology</td>\n",
      "Laurence J. Zwiebel, Ph.D.\n"
     ]
    }
   ],
   "source": [
    "nameCell = cellObjectsList[1]\n",
    "print(nameCell)\n",
    "name = nameCell('strong')[0].text\n",
    "print(name)"
   ]
  },
  {
   "cell_type": "code",
   "execution_count": 69,
   "metadata": {},
   "outputs": [
    {
     "name": "stdout",
     "output_type": "stream",
     "text": [
      "Cornelius Vanderbilt Chair in Biological Sciences\n",
      "Professor of Biological Sciences, Professor of Pharmacology\n",
      "[{'title': 'Cornelius Vanderbilt Chair', 'department': 'Biological Sciences'}, {'title': 'Professor', 'department': 'Biological Sciences, Professor'}]\n",
      "[{\"title\": \"Cornelius Vanderbilt Chair\", \"department\": \"Biological Sciences\"}, {\"title\": \"Professor\", \"department\": \"Biological Sciences, Professor\"}]\n"
     ]
    }
   ],
   "source": [
    "dirtyText  = str(nameCell)\n",
    "# get rid of trailing td tag\n",
    "nameCellText = dirtyText.split('</td>')[0]\n",
    "cellLines = nameCellText.split('<br/>')\n",
    "roles = []\n",
    "for lineIndex in range(1, len(cellLines)):\n",
    "    roleDict = {}\n",
    "    print(cellLines[lineIndex])\n",
    "    if ' of ' in cellLines[lineIndex]:\n",
    "        pieces = cellLines[lineIndex].split(' of ')\n",
    "        roleDict['title'] = pieces[0]\n",
    "        roleDict['department'] = pieces[1]\n",
    "        roles.append(roleDict)\n",
    "    elif ' in ' in cellLines[lineIndex]:\n",
    "        pieces = cellLines[lineIndex].split(' in ')\n",
    "        roleDict['title'] = pieces[0]\n",
    "        roleDict['department'] = pieces[1]\n",
    "        roles.append(roleDict)\n",
    "    else:\n",
    "        roleDict['title'] = cellLines[lineIndex]\n",
    "        roleDict['department'] = ''\n",
    "        roles.append(roleDict)     \n",
    "    if ', Emeritus' in roleDict['department']:\n",
    "        roleDict['department'] = roleDict['department'].split(', Emeritus')[0]\n",
    "        roleDict['title'] = 'Emeritus ' + roleDict['title']\n",
    "rolesJson = json.dumps(roles)\n",
    "print(rolesJson)"
   ]
  },
  {
   "cell_type": "code",
   "execution_count": 71,
   "metadata": {},
   "outputs": [
    {
     "name": "stdout",
     "output_type": "stream",
     "text": [
      "done\n"
     ]
    }
   ],
   "source": [
    "import requests   # best library to manage HTTP transactions\n",
    "from bs4 import BeautifulSoup # web-scraping library\n",
    "import csv\n",
    "import json\n",
    "\n",
    "def writeCsv(fileName, array):\n",
    "    fileObject = open(fileName, 'w', newline='', encoding='utf-8')\n",
    "    writerObject = csv.writer(fileObject)\n",
    "    for row in array:\n",
    "        writerObject.writerow(row)\n",
    "    fileObject.close()\n",
    "\n",
    "acceptMediaType = 'text/html'\n",
    "userAgentHeader = 'BaskaufScraper/0.1 (steve.baskauf@vanderbilt.edu)'\n",
    "requestHeaderDictionary = {\n",
    "    'Accept' : acceptMediaType,\n",
    "    'User-Agent': userAgentHeader\n",
    "}\n",
    "\n",
    "outputTable = [['name', 'degree', 'role', 'category']]\n",
    "categories = ['primary-training-faculty', 'research-and-teaching-faculty', 'secondary-faculty', 'postdoc-fellows', 'emeriti']\n",
    "degreeList = [\n",
    "    {'string': 'Ph.D.', 'value': 'Ph.D.'},\n",
    "    {'string': 'PhD', 'value': 'Ph.D.'},\n",
    "    {'string': 'D.Phil.', 'value': 'D.Phil.'},\n",
    "    {'string': 'J.D.', 'value': 'J.D.'}\n",
    "     ]\n",
    "\n",
    "for category in categories:\n",
    "    url = 'https://as.vanderbilt.edu/biosci/people/index.php?group=' + category\n",
    "    response = requests.get(url, headers = requestHeaderDictionary)\n",
    "    soupObject = BeautifulSoup(response.text,features=\"html5lib\")\n",
    "\n",
    "    # get the first table from the page\n",
    "    tableObject = soupObject.find_all('table')[0]\n",
    "    \n",
    "    # get the rows from the table\n",
    "    rowObjectsList = tableObject.find_all('tr')\n",
    "    for rowObject in rowObjectsList:\n",
    "        # get the cells from each row\n",
    "        cellObjectsList = rowObject.find_all('td')\n",
    "        # picture is in cell 0, name and title is in cell 1\n",
    "        nameCell = cellObjectsList[1]\n",
    "        # the name part is bolded\n",
    "        name = nameCell('strong')[0].text\n",
    "        \n",
    "        # separate degrees from names\n",
    "        degree = ''\n",
    "        for testDegree in degreeList:\n",
    "            if testDegree['string'] in name:\n",
    "                name = name.partition(', ' + testDegree['string'])[0]\n",
    "                # correct any malformed strings\n",
    "                degree = testDegree['value']\n",
    "\n",
    "        try:\n",
    "            # process the roles text\n",
    "            dirtyText  = str(nameCell)\n",
    "            # get rid of trailing td tag\n",
    "            nameCellText = dirtyText.split('</td>')[0]\n",
    "            cellLines = nameCellText.split('<br/>')\n",
    "            roles = []\n",
    "            for lineIndex in range(1, len(cellLines)):\n",
    "                roleDict = {}\n",
    "                if ' of ' in cellLines[lineIndex]:\n",
    "                    pieces = cellLines[lineIndex].split(' of ')\n",
    "                    roleDict['title'] = pieces[0]\n",
    "                    roleDict['department'] = pieces[1]\n",
    "                    roles.append(roleDict)\n",
    "                elif ' in ' in cellLines[lineIndex]:\n",
    "                    pieces = cellLines[lineIndex].split(' in ')\n",
    "                    roleDict['title'] = pieces[0]\n",
    "                    roleDict['department'] = pieces[1]\n",
    "                    roles.append(roleDict)\n",
    "                else:\n",
    "                    roleDict['title'] = cellLines[lineIndex]\n",
    "                    roleDict['department'] = ''\n",
    "                    roles.append(roleDict)\n",
    "                if ', Emeritus' in roleDict['department']:\n",
    "                    roleDict['department'] = roleDict['department'].split(', Emeritus')[0]\n",
    "                    roleDict['title'] = 'Emeritus ' + roleDict['title']\n",
    "            rolesJson = json.dumps(roles)\n",
    "\n",
    "        except:\n",
    "            rolesJson = ''\n",
    "        outputTable.append([name, degree, rolesJson, category])            \n",
    "\n",
    "fileName = 'bsci-employees.csv'\n",
    "writeCsv(fileName, outputTable)\n",
    "print('done')"
   ]
  },
  {
   "cell_type": "code",
   "execution_count": null,
   "metadata": {},
   "outputs": [],
   "source": []
  }
 ],
 "metadata": {
  "kernelspec": {
   "display_name": "Python 3",
   "language": "python",
   "name": "python3"
  },
  "language_info": {
   "codemirror_mode": {
    "name": "ipython",
    "version": 3
   },
   "file_extension": ".py",
   "mimetype": "text/x-python",
   "name": "python",
   "nbconvert_exporter": "python",
   "pygments_lexer": "ipython3",
   "version": "3.8.5"
  }
 },
 "nbformat": 4,
 "nbformat_minor": 2
}

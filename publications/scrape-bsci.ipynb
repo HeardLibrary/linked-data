{
 "cells": [
  {
   "cell_type": "code",
   "execution_count": 19,
   "metadata": {},
   "outputs": [],
   "source": [
    "import requests   # best library to manage HTTP transactions\n",
    "from bs4 import BeautifulSoup # web-scraping library\n",
    "\n",
    "acceptMediaType = 'text/html'\n",
    "userAgentHeader = 'BaskaufScraper/0.1 (steve.baskauf@vanderbilt.edu)'\n",
    "requestHeaderDictionary = {\n",
    "    'Accept' : acceptMediaType,\n",
    "    'User-Agent': userAgentHeader\n",
    "}\n",
    "url = 'https://as.vanderbilt.edu/biosci/people/index.php?group=secondary-faculty'\n",
    "response = requests.get(url, headers = requestHeaderDictionary)\n",
    "soupObject = BeautifulSoup(response.text,features=\"html5lib\")"
   ]
  },
  {
   "cell_type": "code",
   "execution_count": 20,
   "metadata": {},
   "outputs": [
    {
     "name": "stdout",
     "output_type": "stream",
     "text": [
      "<table class=\"table table-striped\" width=\"100%\"><tbody><tr><td width=\"100\"><a href=\"/biosci/bio/suzana-herculano-houzel\"><img class=\"img-rounded\" src=\"/biosci/images/people/image.php/suzana-herculano-houzel.jpg?width=100&amp;image=/biosci/images/people/suzana-herculano-houzel.jpg\"/></a></td><td align=\"left\" class=\"biolink\"><strong><a href=\"/biosci/bio/suzana-herculano-houzel\">Suzana Herculano-Houzel</a></strong><br/>Associate Professor of Psychology<br/>Associate Professor of Biological Sciences</td><td class=\"contactinfo\" width=\"25%\"><a href=\"mailto:Suzana.herculano@vanderbilt.edu\">Email</a><br/><a href=\"http://www.suzanaherculanohouzel.com/lab\">Website</a><br/>615-875-9086<br/>066 Wilson Hall</td></tr>\n",
      "<tr><td width=\"100\"><a href=\"/biosci/bio/jake-hughey\"><img class=\"img-rounded\" src=\"/biosci/images/people/image.php/jake-hughey.jpg?width=100&amp;image=/biosci/images/people/jake-hughey.jpg\"/></a></td><td align=\"left\" class=\"biolink\"><strong><a href=\"/biosci/bio/jake-hughey\">Jake Hughey, Ph.D.</a></strong><br/>Assistant Professor of Biomedical Infomatics<br/>Assistant Professor of Biological Sciences</td><td class=\"contactinfo\" width=\"25%\"><a href=\"mailto:jake.hughey@vumc.org\">Email</a><br/>615-343-9158<br/>2525 West End Ste 1500</td></tr>\n",
      "<tr><td width=\"100\"><a href=\"/biosci/bio/shane-hutson\"><img class=\"img-rounded\" src=\"/biosci/images/people/image.php/shane-hutson.jpg?width=100&amp;image=/biosci/images/people/shane-hutson.jpg\"/></a></td><td align=\"left\" class=\"biolink\"><strong><a href=\"/biosci/bio/shane-hutson\">Shane Hutson</a></strong><br/>Professor of Physics<br/>Professor of Biological Sciences</td><td class=\"contactinfo\" width=\"25%\"><a href=\"mailto:shane.hutson@vanderbilt.edu\">Email</a><br/>(615) 343-9980<br/>6835 Stevenson Center</td></tr>\n",
      "<tr><td width=\"100\"><a href=\"/biosci/bio/owen-jones\"><img class=\"img-rounded\" src=\"/biosci/images/people/image.php/owen-jones5.jpg?width=100&amp;image=/biosci/images/people/owen-jones5.jpg\"/></a></td><td align=\"left\" class=\"biolink\"><strong><a href=\"/biosci/bio/owen-jones\">Owen D. Jones, J.D.</a></strong><br/>Glenn M. Weaver, M.D. and Mary Ellen Weaver Chair in Law, Brain, and Behavior<br/>Professor of Law, Professor of Biological Sciences<br/>Director, MacArthur Foundation Research Network on Law and Neuroscience</td><td class=\"contactinfo\" width=\"25%\"><a href=\"mailto:owen.jones@vanderbilt.edu\">Email</a><br/><a href=\"http://law.vanderbilt.edu/jones\">Website</a><br/>615-322-7191<br/>Room 237, Law School</td></tr>\n",
      "<tr><td width=\"100\"><a class=\"pic\" href=\"/biosci/bio/marialuisa-jorge\"><img class=\"img-rounded\" src=\"/biosci/images/people/image.php/marialuisa-jorge.jpg?width=100&amp;image=/biosci/images/people/marialuisa-jorge.jpg\"/></a></td><td align=\"left\" class=\"biolink\"><strong><a href=\"/biosci/bio/marialuisa-jorge\">Maria Luisa Jorge, Ph.D.</a></strong><br/>Assistant Professor of Earth and Environmental Sciences<br/>Assistant Professor of Biological Sciences</td><td class=\"contactinfo\" width=\"25%\"><a href=\"mailto:malu.jorge@vanderbilt.edu\">Email</a><br/>615-322-0697<br/>2719 Science &amp; Engineering Bldg</td></tr>\n",
      "<tr><td width=\"100\"><a href=\"/biosci/bio/ege-kavalali\"><img class=\"img-rounded\" src=\"/biosci/images/people/image.php/ege-kavalali.jpg?width=100&amp;image=/biosci/images/people/ege-kavalali.jpg\"/></a></td><td align=\"left\" class=\"biolink\"><strong><a href=\"/biosci/bio/ege-kavalali\">Ege Kavalali</a></strong><br/>Professor of Pharmacology<br/>Professor of Biological Sciences</td><td class=\"contactinfo\" width=\"25%\"><a href=\"mailto:ege.kavalali@vanderbilt.edu\">Email</a><br/>7140D MRBIII</td></tr>\n",
      "<tr><td width=\"100\"><a class=\"pic\" href=\"/biosci/bio/david-miller\"><img class=\"img-rounded\" src=\"/biosci/images/people/image.php/david-miller.jpg?width=100&amp;image=/biosci/images/people/david-miller.jpg\"/></a></td><td align=\"left\" class=\"biolink\"><strong><a href=\"/biosci/bio/david-miller\">David M. Miller III, Ph.D.</a></strong><br/>Professor of Cell and Developmental Biology<br/>Professor of Biological Sciences</td><td class=\"contactinfo\" width=\"25%\"><a href=\"mailto:david.miller@vanderbilt.edu\">Email</a><br/><a href=\"http://www.mc.vanderbilt.edu/vumcdept/cellbio/millerlab\">Website</a><br/>615-343-3447<br/>3120 MRB III</td></tr>\n",
      "<tr><td width=\"100\"><a class=\"pic\" href=\"/biosci/bio/louise-rollins-smith\"><img class=\"img-rounded\" src=\"/biosci/images/people/image.php/louise-rollins-smith.jpg?width=100&amp;image=/biosci/images/people/louise-rollins-smith.jpg\"/></a></td><td align=\"left\" class=\"biolink\"><strong><a href=\"/biosci/bio/louise-rollins-smith\">Louise Rollins-Smith, Ph.D.</a></strong><br/>Professor of Pathology, Microbiology and Immunology<br/>Professor of Pediatrics, Professor of Biological Sciences</td><td class=\"contactinfo\" width=\"25%\"><a href=\"mailto:louise.rollins-smith@Vanderbilt.Edu\">Email</a><br/><a href=\"https://medschool.mc.vanderbilt.edu/facultydata/php_files/part_dept/show_part.php?id3=862\">Website</a><br/>615-343-4119<br/>A-5119 MCN</td></tr>\n",
      "\n",
      "\n",
      "</tbody></table>\n"
     ]
    }
   ],
   "source": [
    "tableObject = soupObject.find_all('table')[0]\n",
    "print(tableObject)"
   ]
  },
  {
   "cell_type": "code",
   "execution_count": 21,
   "metadata": {},
   "outputs": [
    {
     "name": "stdout",
     "output_type": "stream",
     "text": [
      "[<tr><td width=\"100\"><a href=\"/biosci/bio/suzana-herculano-houzel\"><img class=\"img-rounded\" src=\"/biosci/images/people/image.php/suzana-herculano-houzel.jpg?width=100&amp;image=/biosci/images/people/suzana-herculano-houzel.jpg\"/></a></td><td align=\"left\" class=\"biolink\"><strong><a href=\"/biosci/bio/suzana-herculano-houzel\">Suzana Herculano-Houzel</a></strong><br/>Associate Professor of Psychology<br/>Associate Professor of Biological Sciences</td><td class=\"contactinfo\" width=\"25%\"><a href=\"mailto:Suzana.herculano@vanderbilt.edu\">Email</a><br/><a href=\"http://www.suzanaherculanohouzel.com/lab\">Website</a><br/>615-875-9086<br/>066 Wilson Hall</td></tr>, <tr><td width=\"100\"><a href=\"/biosci/bio/jake-hughey\"><img class=\"img-rounded\" src=\"/biosci/images/people/image.php/jake-hughey.jpg?width=100&amp;image=/biosci/images/people/jake-hughey.jpg\"/></a></td><td align=\"left\" class=\"biolink\"><strong><a href=\"/biosci/bio/jake-hughey\">Jake Hughey, Ph.D.</a></strong><br/>Assistant Professor of Biomedical Infomatics<br/>Assistant Professor of Biological Sciences</td><td class=\"contactinfo\" width=\"25%\"><a href=\"mailto:jake.hughey@vumc.org\">Email</a><br/>615-343-9158<br/>2525 West End Ste 1500</td></tr>, <tr><td width=\"100\"><a href=\"/biosci/bio/shane-hutson\"><img class=\"img-rounded\" src=\"/biosci/images/people/image.php/shane-hutson.jpg?width=100&amp;image=/biosci/images/people/shane-hutson.jpg\"/></a></td><td align=\"left\" class=\"biolink\"><strong><a href=\"/biosci/bio/shane-hutson\">Shane Hutson</a></strong><br/>Professor of Physics<br/>Professor of Biological Sciences</td><td class=\"contactinfo\" width=\"25%\"><a href=\"mailto:shane.hutson@vanderbilt.edu\">Email</a><br/>(615) 343-9980<br/>6835 Stevenson Center</td></tr>, <tr><td width=\"100\"><a href=\"/biosci/bio/owen-jones\"><img class=\"img-rounded\" src=\"/biosci/images/people/image.php/owen-jones5.jpg?width=100&amp;image=/biosci/images/people/owen-jones5.jpg\"/></a></td><td align=\"left\" class=\"biolink\"><strong><a href=\"/biosci/bio/owen-jones\">Owen D. Jones, J.D.</a></strong><br/>Glenn M. Weaver, M.D. and Mary Ellen Weaver Chair in Law, Brain, and Behavior<br/>Professor of Law, Professor of Biological Sciences<br/>Director, MacArthur Foundation Research Network on Law and Neuroscience</td><td class=\"contactinfo\" width=\"25%\"><a href=\"mailto:owen.jones@vanderbilt.edu\">Email</a><br/><a href=\"http://law.vanderbilt.edu/jones\">Website</a><br/>615-322-7191<br/>Room 237, Law School</td></tr>, <tr><td width=\"100\"><a class=\"pic\" href=\"/biosci/bio/marialuisa-jorge\"><img class=\"img-rounded\" src=\"/biosci/images/people/image.php/marialuisa-jorge.jpg?width=100&amp;image=/biosci/images/people/marialuisa-jorge.jpg\"/></a></td><td align=\"left\" class=\"biolink\"><strong><a href=\"/biosci/bio/marialuisa-jorge\">Maria Luisa Jorge, Ph.D.</a></strong><br/>Assistant Professor of Earth and Environmental Sciences<br/>Assistant Professor of Biological Sciences</td><td class=\"contactinfo\" width=\"25%\"><a href=\"mailto:malu.jorge@vanderbilt.edu\">Email</a><br/>615-322-0697<br/>2719 Science &amp; Engineering Bldg</td></tr>, <tr><td width=\"100\"><a href=\"/biosci/bio/ege-kavalali\"><img class=\"img-rounded\" src=\"/biosci/images/people/image.php/ege-kavalali.jpg?width=100&amp;image=/biosci/images/people/ege-kavalali.jpg\"/></a></td><td align=\"left\" class=\"biolink\"><strong><a href=\"/biosci/bio/ege-kavalali\">Ege Kavalali</a></strong><br/>Professor of Pharmacology<br/>Professor of Biological Sciences</td><td class=\"contactinfo\" width=\"25%\"><a href=\"mailto:ege.kavalali@vanderbilt.edu\">Email</a><br/>7140D MRBIII</td></tr>, <tr><td width=\"100\"><a class=\"pic\" href=\"/biosci/bio/david-miller\"><img class=\"img-rounded\" src=\"/biosci/images/people/image.php/david-miller.jpg?width=100&amp;image=/biosci/images/people/david-miller.jpg\"/></a></td><td align=\"left\" class=\"biolink\"><strong><a href=\"/biosci/bio/david-miller\">David M. Miller III, Ph.D.</a></strong><br/>Professor of Cell and Developmental Biology<br/>Professor of Biological Sciences</td><td class=\"contactinfo\" width=\"25%\"><a href=\"mailto:david.miller@vanderbilt.edu\">Email</a><br/><a href=\"http://www.mc.vanderbilt.edu/vumcdept/cellbio/millerlab\">Website</a><br/>615-343-3447<br/>3120 MRB III</td></tr>, <tr><td width=\"100\"><a class=\"pic\" href=\"/biosci/bio/louise-rollins-smith\"><img class=\"img-rounded\" src=\"/biosci/images/people/image.php/louise-rollins-smith.jpg?width=100&amp;image=/biosci/images/people/louise-rollins-smith.jpg\"/></a></td><td align=\"left\" class=\"biolink\"><strong><a href=\"/biosci/bio/louise-rollins-smith\">Louise Rollins-Smith, Ph.D.</a></strong><br/>Professor of Pathology, Microbiology and Immunology<br/>Professor of Pediatrics, Professor of Biological Sciences</td><td class=\"contactinfo\" width=\"25%\"><a href=\"mailto:louise.rollins-smith@Vanderbilt.Edu\">Email</a><br/><a href=\"https://medschool.mc.vanderbilt.edu/facultydata/php_files/part_dept/show_part.php?id3=862\">Website</a><br/>615-343-4119<br/>A-5119 MCN</td></tr>]\n"
     ]
    }
   ],
   "source": [
    "rowObjectsList = tableObject.find_all('tr')\n",
    "print(rowObjectsList)"
   ]
  },
  {
   "cell_type": "code",
   "execution_count": 22,
   "metadata": {},
   "outputs": [
    {
     "name": "stdout",
     "output_type": "stream",
     "text": [
      "[<td width=\"100\"><a href=\"/biosci/bio/suzana-herculano-houzel\"><img class=\"img-rounded\" src=\"/biosci/images/people/image.php/suzana-herculano-houzel.jpg?width=100&amp;image=/biosci/images/people/suzana-herculano-houzel.jpg\"/></a></td>, <td align=\"left\" class=\"biolink\"><strong><a href=\"/biosci/bio/suzana-herculano-houzel\">Suzana Herculano-Houzel</a></strong><br/>Associate Professor of Psychology<br/>Associate Professor of Biological Sciences</td>, <td class=\"contactinfo\" width=\"25%\"><a href=\"mailto:Suzana.herculano@vanderbilt.edu\">Email</a><br/><a href=\"http://www.suzanaherculanohouzel.com/lab\">Website</a><br/>615-875-9086<br/>066 Wilson Hall</td>]\n"
     ]
    }
   ],
   "source": [
    "rowObject = rowObjectsList[0]\n",
    "cellObjectsList = rowObject.find_all('td')\n",
    "print(cellObjectsList)"
   ]
  },
  {
   "cell_type": "code",
   "execution_count": 23,
   "metadata": {},
   "outputs": [
    {
     "name": "stdout",
     "output_type": "stream",
     "text": [
      "<td align=\"left\" class=\"biolink\"><strong><a href=\"/biosci/bio/suzana-herculano-houzel\">Suzana Herculano-Houzel</a></strong><br/>Associate Professor of Psychology<br/>Associate Professor of Biological Sciences</td>\n",
      "Suzana Herculano-Houzel\n",
      "Associate Professor of PsychologyAssociate Professor of Biological Sciences\n"
     ]
    }
   ],
   "source": [
    "nameCell = cellObjectsList[1]\n",
    "print(nameCell)\n",
    "wholeText = nameCell.text\n",
    "name = nameCell('a')[0].text\n",
    "print(name)\n",
    "titleText = wholeText.partition(name)[2]\n",
    "print(titleText)"
   ]
  },
  {
   "cell_type": "code",
   "execution_count": 37,
   "metadata": {},
   "outputs": [
    {
     "name": "stdout",
     "output_type": "stream",
     "text": [
      "done\n"
     ]
    }
   ],
   "source": [
    "import requests   # best library to manage HTTP transactions\n",
    "from bs4 import BeautifulSoup # web-scraping library\n",
    "import csv\n",
    "\n",
    "def writeCsv(fileName, array):\n",
    "    fileObject = open(fileName, 'w', newline='', encoding='utf-8')\n",
    "    writerObject = csv.writer(fileObject)\n",
    "    for row in array:\n",
    "        writerObject.writerow(row)\n",
    "    fileObject.close()\n",
    "\n",
    "acceptMediaType = 'text/html'\n",
    "userAgentHeader = 'BaskaufScraper/0.1 (steve.baskauf@vanderbilt.edu)'\n",
    "requestHeaderDictionary = {\n",
    "    'Accept' : acceptMediaType,\n",
    "    'User-Agent': userAgentHeader\n",
    "}\n",
    "\n",
    "outputTable = [['name', 'degree', 'role', 'category']]\n",
    "categories = ['primary-training-faculty', 'research-and-teaching-faculty', 'secondary-faculty', 'postdoc-fellows', 'emeriti']\n",
    "degreeList = [\n",
    "    {'string': 'Ph.D.', 'value': 'Ph.D.'},\n",
    "    {'string': 'PhD', 'value': 'Ph.D.'},\n",
    "    {'string': 'D.Phil.', 'value': 'D.Phil.'},\n",
    "    {'string': 'J.D.', 'value': 'J.D.'}\n",
    "     ]\n",
    "\n",
    "for category in categories:\n",
    "    url = 'https://as.vanderbilt.edu/biosci/people/index.php?group=' + category\n",
    "    response = requests.get(url, headers = requestHeaderDictionary)\n",
    "    soupObject = BeautifulSoup(response.text,features=\"html5lib\")\n",
    "\n",
    "    # get the first table from the page\n",
    "    tableObject = soupObject.find_all('table')[0]\n",
    "    \n",
    "    # get the rows from the table\n",
    "    rowObjectsList = tableObject.find_all('tr')\n",
    "    for rowObject in rowObjectsList:\n",
    "        # get the cells from each row\n",
    "        cellObjectsList = rowObject.find_all('td')\n",
    "        # picture is in cell 0, name and title is in cell 1\n",
    "        nameCell = cellObjectsList[1]\n",
    "        wholeText = nameCell.text\n",
    "        # the name part is bolded\n",
    "        try:\n",
    "            name = nameCell('strong')[0].text\n",
    "            # the title part isn't in a tag, so subtract the name part from the whole text to get it\n",
    "            titleText = wholeText.partition(name)[2]\n",
    "            # separate degrees from names\n",
    "            degree = ''\n",
    "            for testDegree in degreeList:\n",
    "                if testDegree['string'] in name:\n",
    "                    name = name.partition(', ' + testDegree['string'])[0]\n",
    "                    # correct any malformed strings\n",
    "                    degree = testDegree['value']\n",
    "        except:\n",
    "            name = wholeText\n",
    "            titleText = ''\n",
    "            degree = ''\n",
    "        outputTable.append([name, degree, titleText, category])            \n",
    "\n",
    "fileName = 'bsci-employees.csv'\n",
    "writeCsv(fileName, outputTable)\n",
    "print('done')"
   ]
  },
  {
   "cell_type": "code",
   "execution_count": null,
   "metadata": {},
   "outputs": [],
   "source": []
  }
 ],
 "metadata": {
  "kernelspec": {
   "display_name": "Python 3",
   "language": "python",
   "name": "python3"
  },
  "language_info": {
   "codemirror_mode": {
    "name": "ipython",
    "version": 3
   },
   "file_extension": ".py",
   "mimetype": "text/x-python",
   "name": "python",
   "nbconvert_exporter": "python",
   "pygments_lexer": "ipython3",
   "version": "3.7.3"
  }
 },
 "nbformat": 4,
 "nbformat_minor": 2
}

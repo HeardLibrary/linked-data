{
 "cells": [
  {
   "cell_type": "code",
   "execution_count": 189,
   "metadata": {},
   "outputs": [],
   "source": [
    "import requests\n",
    "import json\n",
    "from time import sleep\n",
    "import csv\n",
    "import math\n",
    "\n",
    "# function to write results to a file\n",
    "def writeCsv(fileName, array):\n",
    "    fileObject = open(fileName, 'w', newline='', encoding='utf-8')\n",
    "    writerObject = csv.writer(fileObject)\n",
    "    for row in array:\n",
    "        writerObject.writerow(row)\n",
    "    fileObject.close()"
   ]
  },
  {
   "cell_type": "code",
   "execution_count": 190,
   "metadata": {},
   "outputs": [],
   "source": [
    "table = []\n",
    "\n",
    "# use the API to search for people associated with Vanderbilt University\n",
    "# First search is for only one record, just to get the number of hits found\n",
    "searchUri = 'https://pub.orcid.org/v2.0/search/?q=affiliation-org-name:\"Vanderbilt+University\"&start=1&rows=1'\n",
    "response = requests.get(searchUri, headers={'Accept' : 'application/json'})\n",
    "data = response.json()"
   ]
  },
  {
   "cell_type": "code",
   "execution_count": 193,
   "metadata": {},
   "outputs": [
    {
     "name": "stdout",
     "output_type": "stream",
     "text": [
      "3826\n",
      "38\n",
      "26\n"
     ]
    }
   ],
   "source": [
    "numberResults = data[\"num-found\"]\n",
    "print(data[\"num-found\"])\n",
    "numberPages = math.floor(numberResults/100)\n",
    "print(numberPages)\n",
    "remainder = numberResults - 100*numberPages\n",
    "print(remainder)"
   ]
  },
  {
   "cell_type": "code",
   "execution_count": 196,
   "metadata": {},
   "outputs": [
    {
     "name": "stdout",
     "output_type": "stream",
     "text": [
      "page:  2\n",
      "https://pub.orcid.org/v2.0/search/?q=affiliation-org-name:%22Vanderbilt+University%22&start=201\n"
     ]
    }
   ],
   "source": [
    "pageCount = 2\n",
    "# use the API to search for people associated with Vanderbilt University\n",
    "print('page: ', pageCount)\n",
    "searchUri = 'https://pub.orcid.org/v2.0/search/?q=affiliation-org-name:\"Vanderbilt+University\"&start='+str(pageCount*100+1)\n",
    "response = requests.get(searchUri, headers={'Accept' : 'application/json'})\n",
    "print(response.url)\n",
    "data = response.json()\n",
    "orcidsDictsList = data['result']"
   ]
  },
  {
   "cell_type": "code",
   "execution_count": 176,
   "metadata": {},
   "outputs": [],
   "source": [
    "# extract the identifier strings from the data structure\n",
    "orcids = []\n",
    "for orcidDict in orcidsDictsList:\n",
    "    dictionary = {'id': orcidDict['orcid-identifier']['path'], 'iri': orcidDict['orcid-identifier']['uri']}\n",
    "    orcids.append(dictionary)"
   ]
  },
  {
   "cell_type": "code",
   "execution_count": 172,
   "metadata": {},
   "outputs": [],
   "source": [
    "response = requests.get(orcids[12]['iri'], headers={'Accept' : 'application/json'})\n",
    "data = response.json()"
   ]
  },
  {
   "cell_type": "code",
   "execution_count": 173,
   "metadata": {},
   "outputs": [],
   "source": [
    "#print(json.dumps(data, indent = 2))\n",
    "orcidId = data['orcid-identifier']['path']\n",
    "#print(orcidId)\n",
    "givenNames = data['person']['name']['given-names']['value']\n",
    "familyName = data['person']['name']['family-name']['value']\n",
    "#print(givenNames, ' ', familyName)\n",
    "otherNames = data['person']['other-names']['other-name']\n",
    "for otherName in otherNames:\n",
    "    print(otherName['content'])\n"
   ]
  },
  {
   "cell_type": "code",
   "execution_count": 174,
   "metadata": {},
   "outputs": [
    {
     "name": "stdout",
     "output_type": "stream",
     "text": [
      "0000-0003-4143-1870 Alacia Stainbrook 2012-06-01  Vanderbilt Kennedy Center Vanderbilt University Medical Center\n",
      "[['0000-0003-4143-1870', 'Alacia', 'Stainbrook', '2012-06-01', '', 'Vanderbilt Kennedy Center', 'Vanderbilt University Medical Center']]\n"
     ]
    }
   ],
   "source": [
    "affiliations = data['activities-summary']['employments']['affiliation-group']\n",
    "#print(json.dumps(affiliations, indent = 2))\n",
    "for affiliation in affiliations:\n",
    "    summaries = affiliation['summaries']\n",
    "    #print(summaries)\n",
    "    #print()\n",
    "    for summary in summaries:\n",
    "        employment = summary['employment-summary']\n",
    "        #print(json.dumps(employment, indent = 2))\n",
    "        startDate = ''\n",
    "        if employment['start-date']:\n",
    "            startDate += employment['start-date']['year']['value']\n",
    "            startMonth = employment['start-date']['month']\n",
    "            if startMonth:\n",
    "                startDate += '-' + startMonth['value']\n",
    "                startDay = employment['start-date']['day']\n",
    "                if startDay:\n",
    "                    startDate += '-' + startDay['value']\n",
    "        #print('start date: ', startDate)\n",
    "        endDate = ''\n",
    "        if employment['end-date']:\n",
    "            endDate += employment['end-date']['year']['value']\n",
    "            endMonth = employment['end-date']['month']\n",
    "            if endMonth:\n",
    "                endDate += '-' + endMonth['value']\n",
    "                endDay = employment['end-date']['day']\n",
    "                if endDay:\n",
    "                    endDate += '-' + endDay['value']\n",
    "        #print('end date: ', endDate)\n",
    "        department = employment['department-name']\n",
    "        # if there is no value for department, set it to empty string\n",
    "        if not department:\n",
    "            department = ''\n",
    "        #print(department)\n",
    "        organization = employment['organization']['name']\n",
    "        #print(organization)\n",
    "        if 'Vanderbilt University' in organization:\n",
    "            print(orcidId, givenNames, familyName, startDate, endDate, department, organization)\n",
    "            table.append([orcidId, givenNames, familyName, startDate, endDate, department, organization])\n",
    "        #print(table)\n",
    "sleep(.25)"
   ]
  },
  {
   "cell_type": "code",
   "execution_count": 177,
   "metadata": {},
   "outputs": [
    {
     "name": "stdout",
     "output_type": "stream",
     "text": [
      "0000-0001-8527-4569 William O. Cooper 2014  Center for Patient & Professional Advocacy Vanderbilt University\n",
      "0000-0001-8527-4569 William O. Cooper 1997   Vanderbilt University\n",
      "Amanda J Morgan\n",
      "Mandy Morgan\n",
      "0000-0003-4974-1830 Amanda Morgan 2018-08-17  Psychiatry- Addiction Vanderbilt University Medical Center\n",
      "0000-0003-4974-1830 Amanda Morgan 2016-08-16 2018-08-16 Molecular Physiology and Biophysics Vanderbilt University\n",
      "0000-0002-7786-4670 Ayush Giri 2017-08-01  Obstetrics and Gynecology Vanderbilt University Medical Center\n",
      "0000-0001-5498-8489 Rodney Chenault 2014-04-01  Occupational Health Vanderbilt University Medical Center\n",
      "0000-0002-0280-6513 Sarah Greenberg 2014   Vanderbilt University Medical Center\n",
      "0000-0002-5851-1925 Taylor Hudson 2015-06 2016-06 Neurology Vanderbilt University Medical Center\n",
      "0000-0001-7731-5885 Abigail Roux 2017-01-08  Opthamology Vanderbilt University Medical Center\n",
      "0000-0002-3336-0278 Kryseana Harper 2014-05-11  Internal Medicine and Public Health Vanderbilt University Medical Center\n",
      "0000-0003-2309-8453 Ralph Conwill 2010-06-01  Urology Vanderbilt University Medical Center\n",
      "0000-0002-9483-860X Luul Aden 2019-06-10  Clinical Pharmacology Vanderbilt University Medical Center\n",
      "0000-0002-8965-7708 Feng Wang 2007-08-01  Radiology and Radiological Sciences Vanderbilt University Medical Center\n",
      "0000-0003-4143-1870 Alacia Stainbrook 2012-06-01  Vanderbilt Kennedy Center Vanderbilt University Medical Center\n",
      "0000-0001-7114-7614 Marie Griffin 1986-01-01  Health Policy Vanderbilt University\n",
      "0000-0001-7114-7614 Marie Griffin 1986-01-01  Health Policy Vanderbilt University Medical Center\n",
      "0000-0002-9782-9944 Logan Dumitrescu 2016-05  Neurology Vanderbilt University Medical Center\n",
      "0000-0002-3603-7185 Kyle Hocking 2017-07-01   Vanderbilt University Medical Center\n",
      "0000-0002-9978-2203 Richard Dortch 2015-05-01  Radiology and Radiological Sciences Vanderbilt University Medical Center\n",
      "0000-0003-3941-5599 Maribeth Nicholson   Pediatrics Vanderbilt University Medical Center\n",
      "0000-0003-1132-0782 Barbara Fingleton 2017-10-01  Pharmacology Vanderbilt University\n",
      "0000-0003-1132-0782 Barbara Fingleton 2011-09 2017-10 Cancer Biology Vanderbilt University Medical Center\n",
      "0000-0003-1132-0782 Barbara Fingleton 2006 2011 Cancer Biology Vanderbilt University Medical Center\n",
      "0000-0003-1132-0782 Barbara Fingleton 1997-05-01 2001 Cell Biology Vanderbilt University Medical Center\n",
      "0000-0002-3075-1337 Zhijun Yin 2018-03-01  Biomedical Informatics Vanderbilt University Medical Center\n",
      "0000-0002-5320-4619 Suzanne Avery 2015-08-01   Vanderbilt University Medical Center\n",
      "0000-0002-3108-2470 Jose Arriola Vigo   Psychiatry and Behavioral Sciences Vanderbilt University Medical Center\n",
      "0000-0001-8954-5805 Kate Thomson 2015-09 2017-05 Civil and Environmental Engineering Vanderbilt University School of Engineering\n"
     ]
    }
   ],
   "source": [
    "for orchidIndex in range(0, len(orchids)):\n",
    "    response = requests.get(orcids[orchidIndex]['iri'], headers={'Accept' : 'application/json'})\n",
    "    data = response.json()\n",
    "\n",
    "    #print(json.dumps(data, indent = 2))\n",
    "    orcidId = data['orcid-identifier']['path']\n",
    "    #print(orcidId)\n",
    "    givenNames = data['person']['name']['given-names']['value']\n",
    "    familyName = data['person']['name']['family-name']['value']\n",
    "    #print(givenNames, ' ', familyName)\n",
    "    otherNames = data['person']['other-names']['other-name']\n",
    "    for otherName in otherNames:\n",
    "        print(otherName['content'])\n",
    "\n",
    "    affiliations = data['activities-summary']['employments']['affiliation-group']\n",
    "    #print(json.dumps(affiliations, indent = 2))\n",
    "    for affiliation in affiliations:\n",
    "        summaries = affiliation['summaries']\n",
    "        #print(summaries)\n",
    "        #print()\n",
    "        for summary in summaries:\n",
    "            employment = summary['employment-summary']\n",
    "            #print(json.dumps(employment, indent = 2))\n",
    "            startDate = ''\n",
    "            if employment['start-date']:\n",
    "                startDate += employment['start-date']['year']['value']\n",
    "                startMonth = employment['start-date']['month']\n",
    "                if startMonth:\n",
    "                    startDate += '-' + startMonth['value']\n",
    "                    startDay = employment['start-date']['day']\n",
    "                    if startDay:\n",
    "                        startDate += '-' + startDay['value']\n",
    "            #print('start date: ', startDate)\n",
    "            endDate = ''\n",
    "            if employment['end-date']:\n",
    "                endDate += employment['end-date']['year']['value']\n",
    "                endMonth = employment['end-date']['month']\n",
    "                if endMonth:\n",
    "                    endDate += '-' + endMonth['value']\n",
    "                    endDay = employment['end-date']['day']\n",
    "                    if endDay:\n",
    "                        endDate += '-' + endDay['value']\n",
    "            #print('end date: ', endDate)\n",
    "            department = employment['department-name']\n",
    "            # if there is no value for department, set it to empty string\n",
    "            if not department:\n",
    "                department = ''\n",
    "            #print(department)\n",
    "            organization = employment['organization']['name']\n",
    "            #print(organization)\n",
    "            if 'Vanderbilt University' in organization:\n",
    "                print(orcidId, givenNames, familyName, startDate, endDate, department, organization)\n",
    "                table.append([orcidId, givenNames, familyName, startDate, endDate, department, organization])\n",
    "            #print(table)\n",
    "    sleep(.25)"
   ]
  },
  {
   "cell_type": "code",
   "execution_count": 180,
   "metadata": {},
   "outputs": [],
   "source": [
    "fileName = 'orcid_data.csv'\n",
    "writeCsv(fileName, table)"
   ]
  },
  {
   "cell_type": "code",
   "execution_count": null,
   "metadata": {},
   "outputs": [],
   "source": []
  }
 ],
 "metadata": {
  "kernelspec": {
   "display_name": "Python 3",
   "language": "python",
   "name": "python3"
  },
  "language_info": {
   "codemirror_mode": {
    "name": "ipython",
    "version": 3
   },
   "file_extension": ".py",
   "mimetype": "text/x-python",
   "name": "python",
   "nbconvert_exporter": "python",
   "pygments_lexer": "ipython3",
   "version": "3.7.1"
  }
 },
 "nbformat": 4,
 "nbformat_minor": 2
}

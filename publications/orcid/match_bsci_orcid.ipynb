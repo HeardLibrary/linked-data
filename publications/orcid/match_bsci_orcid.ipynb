{
 "cells": [
  {
   "cell_type": "code",
   "execution_count": 53,
   "metadata": {},
   "outputs": [],
   "source": [
    "from fuzzywuzzy import fuzz\n",
    "from fuzzywuzzy import process\n",
    "import csv\n",
    "import json\n",
    "\n",
    "def readDict(filename):\n",
    "    fileObject = open(filename, 'r', newline='', encoding='utf-8')\n",
    "    dictObject = csv.DictReader(fileObject)\n",
    "    array = []\n",
    "    for row in dictObject:\n",
    "        array.append(row)\n",
    "    fileObject.close()\n",
    "    return array"
   ]
  },
  {
   "cell_type": "code",
   "execution_count": 54,
   "metadata": {},
   "outputs": [],
   "source": [
    "filename = 'bsci-employees.csv'\n",
    "bsciEmployees = readDict(filename)"
   ]
  },
  {
   "cell_type": "code",
   "execution_count": 55,
   "metadata": {},
   "outputs": [],
   "source": [
    "filename = 'orcid_data.csv'\n",
    "orcidData = readDict(filename)"
   ]
  },
  {
   "cell_type": "code",
   "execution_count": 76,
   "metadata": {},
   "outputs": [
    {
     "name": "stdout",
     "output_type": "stream",
     "text": [
      "100 Brandt Eichman / Brandt F. Eichman 100 Department of Biological Sciences\n",
      "100 Julian Hillyer / Julian F. Hillyer 100 Department of Biological Sciences\n",
      "100 Lauren Jackson / Lauren Parker Jackson 100 Biological Sciences\n",
      "100 Carl Johnson / Carl H. Johnson 100 Biological Sciences 100 Biological Sciences\n",
      "100 Jared Nordman / Jared Nordman 100 Biological Sciences\n",
      "100 Lars Plate / Lars Plate 100 Chemistry and Biological Sciences\n",
      "100 Antonis Rokas / Antonis Rokas 100 Department of Biological Sciences 100 Department of Biological Sciences\n",
      "100 Ann Tate / Ann Tate 100 Biological Sciences\n",
      "100 Laurence Zwiebel / Laurence J. Zwiebel 100 Biological Sciences 100 Biological Sciences\n",
      "100 Allison Leich Hilbun / Allison Leich Hilbun 100 Biological Sciences\n",
      "100 Tetsuya Mori / Tetsuya Mori 100 Biological Sciences\n",
      "100 Elwood Mullins / Elwood Mullins 100 Biological Sciences\n",
      "100 Peng Xu / Peng Xu 100 Department of Biological Sciences\n",
      "100 Suzana Herculano-Houzel / Suzana Herculano-Houzel 100 Department of Psychology\n",
      "100 Maria Luisa SP Jorge / Maria Luisa Jorge 100 Earth and Environmental Sciences\n",
      "100 MINTU CHANDRA / Mintu Chandra 100 Biological Sciences\n",
      "100 Karissa Cross / Karissa Cross 100 Biological Sciences\n",
      "100 John Gadbery / John Gadbery 100 Biological Sciences\n",
      "100 Abigail LaBella / Abigail Labella WARNING: Biology less than 90% match to any dept.\n",
      "94 Junhui Li / Junhi Li 100 Vanderbilt Microbiome Initiative / Department of Biological Sciences\n",
      "100 Matthew Mead / Matthew Mead 100 Biological Sciences\n",
      "100 James Sears / James Sears 100 Biological Sciences\n",
      "100 Xing-Xing Shen / Xing-Xing Shen 97 Biological Science\n"
     ]
    }
   ],
   "source": [
    "testRatio = 90\n",
    "departmentTestRatio = 90\n",
    "for employeeIndex in range(0, len(bsciEmployees)):\n",
    "    matched = False\n",
    "    for row in orcidData:\n",
    "        name = row['givenNames'] + ' ' + row['familyName']\n",
    "        #ratio = fuzz.ratio(name, bsciEmployees[employeeIndex][0])\n",
    "        #partialRatio = fuzz.partial_ratio(name, bsciEmployees[employeeIndex][0])\n",
    "        #sortRatio = fuzz.token_sort_ratio(name, bsciEmployees[employeeIndex][0])\n",
    "        \n",
    "        output = ''\n",
    "        # the set ratio seems to do the best job of matching\n",
    "        setRatio = fuzz.token_set_ratio(name, bsciEmployees[employeeIndex]['name'])\n",
    "        if setRatio >= testRatio:\n",
    "            output = str(setRatio) + ' ' + name + ' / ' + bsciEmployees[employeeIndex]['name']\n",
    "            \n",
    "            if row['department'] == '':\n",
    "                output += \" WARNING: no department given in ORCID\"\n",
    "            else:\n",
    "                # carry out a secondary test to see if any of the departments listed in the BSCI page\n",
    "                # are a good match to the department given in the ORCID record\n",
    "                \n",
    "                # expand the role JSON into a list of dictionaries\n",
    "                roleDict = json.loads(bsciEmployees[employeeIndex]['role'])\n",
    "                departmentMatch = False\n",
    "                for department in roleDict:\n",
    "                    setRatio = fuzz.token_set_ratio(department['department'], row['department'])\n",
    "                    if setRatio > departmentTestRatio:\n",
    "                        departmentMatch = True\n",
    "                        output += ' ' + str(setRatio) + ' ' + row['department']\n",
    "                if not departmentMatch:\n",
    "                    output += ' WARNING: ' + row['department'] + ' less than ' + str(departmentTestRatio) + '% match to any dept.'\n",
    "            print(output)\n",
    "            matched = True\n",
    "            foundOrcid = row['orcid']\n",
    "            # We only care about the first good match to an ORCID record, kill the loop after that\n",
    "            break\n",
    "    if matched:\n",
    "        bsciEmployees[employeeIndex]['orcid'] = foundOrcid\n",
    "    else:\n",
    "        bsciEmployees[employeeIndex]['orcid'] = ''      "
   ]
  },
  {
   "cell_type": "code",
   "execution_count": 78,
   "metadata": {},
   "outputs": [],
   "source": [
    "filename = 'bsci-employees-with-orcid.csv'\n",
    "with open(filename, 'w', newline='') as csvFileObject:\n",
    "    fieldnames = ['name', 'degree', 'category', 'orcid', 'role']\n",
    "    writer = csv.DictWriter(csvFileObject, fieldnames=fieldnames)\n",
    "    writer.writeheader()\n",
    "    for row in bsciEmployees:\n",
    "        writer.writerow(row)\n"
   ]
  },
  {
   "cell_type": "code",
   "execution_count": null,
   "metadata": {},
   "outputs": [],
   "source": []
  }
 ],
 "metadata": {
  "kernelspec": {
   "display_name": "Python 3",
   "language": "python",
   "name": "python3"
  },
  "language_info": {
   "codemirror_mode": {
    "name": "ipython",
    "version": 3
   },
   "file_extension": ".py",
   "mimetype": "text/x-python",
   "name": "python",
   "nbconvert_exporter": "python",
   "pygments_lexer": "ipython3",
   "version": "3.7.3"
  }
 },
 "nbformat": 4,
 "nbformat_minor": 2
}

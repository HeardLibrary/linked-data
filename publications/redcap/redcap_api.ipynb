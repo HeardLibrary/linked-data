{
 "cells": [
  {
   "cell_type": "markdown",
   "metadata": {},
   "source": [
    "# Setup\n",
    "\n",
    "Run this cell once at the start"
   ]
  },
  {
   "cell_type": "code",
   "execution_count": null,
   "metadata": {},
   "outputs": [],
   "source": [
    "# redcap_api.ipynb, a Python script for getting data from ORCID and loading it into a RedCap form.\n",
    "version = '0.1'\n",
    "created = '2022-02-25'\n",
    "\n",
    "# (c) 2022 Vanderbilt University. This program is released under a GNU General Public License v3.0 http://www.gnu.org/licenses/gpl-3.0\n",
    "# Author: Steve Baskauf\n",
    "\n",
    "# -------------\n",
    "# Configuration\n",
    "# -------------\n",
    "\n",
    "# Module imports\n",
    "\n",
    "import requests\n",
    "import json\n",
    "import hashlib\n",
    "from pathlib import Path\n",
    "\n",
    "# Global variables\n",
    "endpoint_url = 'https://redcap.vanderbilt.edu/api/'\n",
    "\n",
    "# ---------------------\n",
    "\n",
    "# Function definitions\n",
    "\n",
    "# value of directory should be either 'home' or 'working'\n",
    "def load_credential(filename, directory):\n",
    "    \"\"\"Retrieve the raw token text from a plain text file.\"\"\"\n",
    "    cred = ''\n",
    "    # to change the script to look for the credential in the working directory, change the value of home to empty string\n",
    "    if directory == 'home':\n",
    "        home = str(Path.home()) #gets path to home directory; supposed to work for Win and Mac\n",
    "        credential_path = home + '/' + filename\n",
    "    else:\n",
    "        directory = 'working'\n",
    "        credential_path = filename\n",
    "    try:\n",
    "        with open(credential_path, 'rt', encoding='utf-8') as file_object:\n",
    "            cred = file_object.read()\n",
    "    except:\n",
    "        print(filename + ' file not found - is it in your ' + directory + ' directory?')\n",
    "        exit()\n",
    "    return(cred)\n",
    "\n",
    "def retrieve_api_data(token, fields):\n",
    "    \"\"\"Sends GET request to API and convert result to data structure.\"\"\"\n",
    "    data = {\n",
    "        'token': token,\n",
    "        'format': 'json',\n",
    "        'returnFormat': 'json'\n",
    "    }\n",
    "    data.update(fields)\n",
    "    response = requests.post(endpoint_url,data=data)\n",
    "    status = response.status_code\n",
    "    print('status:', status)\n",
    "    if status == 200:\n",
    "        try:\n",
    "            data = response.json()\n",
    "            return status, data\n",
    "        except:\n",
    "            print(response.text)\n",
    "            return 0, {}\n",
    "    else:\n",
    "        print(response.text)\n",
    "        return status, {}\n",
    "\n",
    "# ---------------------\n",
    "\n",
    "# Load token from file\n",
    "\n",
    "token = load_credential('redcap_test_token.txt', 'home')\n"
   ]
  },
  {
   "cell_type": "markdown",
   "metadata": {},
   "source": [
    "# Set up specific data fields\n",
    "\n",
    "The following cells can be run individually to do different kinds of API interactions.\n",
    "See https://redcap.vanderbilt.edu/api/help/ for more info. Clicking on the `API Playground` link will let you interactively build the request JSON for different languages."
   ]
  },
  {
   "cell_type": "code",
   "execution_count": null,
   "metadata": {},
   "outputs": [],
   "source": [
    "# Retrieve some records\n",
    "data_fields = {\n",
    "    'content': 'record',\n",
    "    'action': 'export',\n",
    "    'type': 'flat',\n",
    "    'csvDelimiter': '',\n",
    "    'records[0]': '1',\n",
    "    'fields[0]': 'record_id',\n",
    "    'fields[1]': 'orcid',\n",
    "    'fields[2]': 'name',\n",
    "    'fields[3]': 'doi',\n",
    "    'fields[4]': 'citation',\n",
    "    'fields[5]': 'type',\n",
    "    'fields[6]': 'form_1_complete',\n",
    "    'forms[0]': 'form_1',   \n",
    "    'rawOrLabel': 'raw',\n",
    "    'rawOrLabelHeaders': 'raw',\n",
    "    'exportCheckboxLabel': 'false',\n",
    "    'exportSurveyFields': 'false',\n",
    "    'exportDataAccessGroups': 'false'\n",
    "}\n"
   ]
  },
  {
   "cell_type": "code",
   "execution_count": null,
   "metadata": {},
   "outputs": [],
   "source": [
    "# Successful test of writing\n",
    "# You can send multiple records at once, but the \n",
    "# hashlib.sha1().hexdigest()[:16]\n",
    "# seems to result in duplicates if you do it for two records. Not sure why...\n",
    "\n",
    "fields =  [\n",
    "    {\n",
    "    'record_id': hashlib.sha1().hexdigest()[:16],\n",
    "    \"orcid\": \"1234-2222-7777-2678\",\n",
    "    \"name\": \"Jing Ping\",\n",
    "    \"doi\": \"10.1234/j.mol.stuff.123\",\n",
    "    \"citation\": \"J. Zhang. 2021. My better article. J.Whatever 2:12-13\",\n",
    "    \"type\": \" Journal article\",\n",
    "    \"form_1_complete\": \"2\"  \n",
    "},\n",
    "{\n",
    "    'record_id': '1000',\n",
    "    \"orcid\": \"1234-2222-333-2678\",\n",
    "    \"name\": \"Xiang Zeng\",\n",
    "    \"doi\": \"10.1234/j.mol.stuff.365\",\n",
    "    \"citation\": \"J. Zhang. 2021. My best article. J.Whatever 2:12-13\",\n",
    "    \"type\": \" Journal article\",\n",
    "    \"form_1_complete\": \"2\"  \n",
    "}\n",
    "]\n",
    "\n",
    "data_fields = {\n",
    "    'content': 'record',\n",
    "    'type': 'flat',\n",
    "    'data': json.dumps(fields)\n",
    "}\n"
   ]
  },
  {
   "cell_type": "code",
   "execution_count": null,
   "metadata": {},
   "outputs": [],
   "source": [
    "# Get project information\n",
    "data_fields = {'content': 'project'}\n"
   ]
  },
  {
   "cell_type": "code",
   "execution_count": null,
   "metadata": {},
   "outputs": [],
   "source": [
    "# Get field names from forms\n",
    "data_fields = {'content': 'exportFieldNames'}\n"
   ]
  },
  {
   "cell_type": "markdown",
   "metadata": {},
   "source": [
    "# Main script\n",
    "\n",
    "Run after defining `data_fields` in one of the preceeding cells"
   ]
  },
  {
   "cell_type": "code",
   "execution_count": null,
   "metadata": {},
   "outputs": [],
   "source": [
    "status, data = retrieve_api_data(token, data_fields)\n",
    "if status == 200:\n",
    "    print(json.dumps(data, indent = 2))\n",
    "else:\n",
    "    print('no data retrieved')\n"
   ]
  },
  {
   "cell_type": "code",
   "execution_count": null,
   "metadata": {},
   "outputs": [],
   "source": []
  }
 ],
 "metadata": {
  "kernelspec": {
   "display_name": "Python 3",
   "language": "python",
   "name": "python3"
  },
  "language_info": {
   "codemirror_mode": {
    "name": "ipython",
    "version": 3
   },
   "file_extension": ".py",
   "mimetype": "text/x-python",
   "name": "python",
   "nbconvert_exporter": "python",
   "pygments_lexer": "ipython3",
   "version": "3.8.5"
  }
 },
 "nbformat": 4,
 "nbformat_minor": 4
}

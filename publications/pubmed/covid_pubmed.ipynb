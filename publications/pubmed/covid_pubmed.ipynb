{
 "cells": [
  {
   "cell_type": "code",
   "execution_count": 19,
   "metadata": {},
   "outputs": [],
   "source": [
    "import requests   # best library to manage HTTP transactions\n",
    "import json       # library to convert JSON to Python data structures\n",
    "from time import sleep\n",
    "import csv        # library to read/write/parse CSV files\n",
    "\n",
    "# NCBI identification requirements:\n",
    "# tool name and email address should be sent with all requests\n",
    "# see https://www.ncbi.nlm.nih.gov/books/NBK25499/#chapter4.ESearch\n",
    "email_address = 'steve.baskauf@vanderbilt.edu' # put your email address here\n",
    "tool_name = 'VanderPub' # give your application a name here\n",
    "\n",
    "accept_mime = 'application/json'\n",
    "fetch_url = 'https://eutils.ncbi.nlm.nih.gov/entrez/eutils/esearch.fcgi'\n",
    "\n",
    "def retrieve_pubmed_data(fetch_url, accept_mime, email_address, tool_name, search_string):\n",
    "    header_dict = {\n",
    "        'Accept': accept_mime\n",
    "        }\n",
    "    param_dict = {\n",
    "        'tool': tool_name, \n",
    "        'email': email_address,\n",
    "        'db': 'pubmed', \n",
    "        'retmode': 'json', \n",
    "        'usehistory': 'n',\n",
    "        'retmax': '5000',\n",
    "        #'retmax': '2', # limit to 2 results when testing\n",
    "        'term': search_string\n",
    "        }\n",
    "    response = requests.get(fetch_url, headers=header_dict, params=param_dict)    \n",
    "    #print(response.url)\n",
    "    if response.status_code == 404:\n",
    "        pub_data = {} # return an empty dict if the constructed URL won't dereference\n",
    "    else:\n",
    "        pub_data = response.json()\n",
    "        #print(json.dumps(data, indent = 2)) # uncomment to look at returned JSON\n",
    "\n",
    "    # See https://www.ncbi.nlm.nih.gov/books/NBK25497/ for usage guidelines. \n",
    "    # An API key is required for more than 3 requests per second.\n",
    "    sleep(0.4) # wait 0.4 second before hitting the API again to avoid getting blocked\n",
    "    return pub_data\n"
   ]
  },
  {
   "cell_type": "code",
   "execution_count": 25,
   "metadata": {},
   "outputs": [
    {
     "name": "stdout",
     "output_type": "stream",
     "text": [
      "done\n"
     ]
    }
   ],
   "source": [
    "# settings for the initial search\n",
    "search_string = '(coronavirus disease 2019 OR covid-19 OR Sars-CoV-2 OR severe acute respiratory syndrome coronavirus 2) AND 2020/10/06[pdat]'\n",
    "\n",
    "# get the results\n",
    "data = retrieve_pubmed_data(fetch_url, accept_mime, email_address, tool_name, search_string)\n",
    "print('done')"
   ]
  },
  {
   "cell_type": "code",
   "execution_count": 26,
   "metadata": {},
   "outputs": [
    {
     "name": "stdout",
     "output_type": "stream",
     "text": [
      "115\n",
      "['33022901', '33022856', '33022845', '33022834', '33022818', '33022810', '33022806', '33022800', '33022790', '33022781', '33022779', '33022765', '33022757', '33022755', '33022754', '33022182', '33022134', '33022124', '33022106', '33022093', '33022076', '33022023', '33022019', '33022016', '33022015', '33022014', '33022013', '33022004', '33021985', '33021927', '33021925', '33021901', '33021896', '33021869', '33021868', '33021856', '33021847', '33021846', '33021812', '33021761', '33021757', '33021739', '33021729', '33021718', '33021717', '33021713', '33021704', '33021703', '33021683', '33021673', '33021653', '33021631', '33021506', '33021464', '33021463', '33021445', '33021422', '33021400', '33021366', '33021342', '33021333', '33021332', '33021207', '33021206', '33021147', '33021144', '33021131', '33021102', '33021094', '33021051', '33020999', '33020967', '33020845', '33020836', '33020822', '33020815', '33019958', '33019956', '33019951', '33019916', '33019914', '33019894', '33019889', '33019883', '33019877', '33019860', '33019859', '33019857', '33019856', '33019838', '33017839', '33001828', '32976111', '32967427', '32966040', '32962468', '32931703', '32924651', '32910699', '32903195', '32894013', '32853038', '32853033', '32853032', '32845705', '32822495', '32808979', '32628536', '32589451', '32579379', '32546654', '32525715', '32515987', '32491920', '32453637']\n"
     ]
    }
   ],
   "source": [
    "idlist = data['esearchresult']['idlist']\n",
    "print(len(idlist))\n",
    "print(idlist)"
   ]
  },
  {
   "cell_type": "code",
   "execution_count": null,
   "metadata": {},
   "outputs": [],
   "source": []
  }
 ],
 "metadata": {
  "kernelspec": {
   "display_name": "Python 3",
   "language": "python",
   "name": "python3"
  },
  "language_info": {
   "codemirror_mode": {
    "name": "ipython",
    "version": 3
   },
   "file_extension": ".py",
   "mimetype": "text/x-python",
   "name": "python",
   "nbconvert_exporter": "python",
   "pygments_lexer": "ipython3",
   "version": "3.7.1"
  }
 },
 "nbformat": 4,
 "nbformat_minor": 2
}

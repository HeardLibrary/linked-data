{
 "cells": [
  {
   "cell_type": "code",
   "execution_count": null,
   "metadata": {},
   "outputs": [],
   "source": [
    "import requests   # best library to manage HTTP transactions\n",
    "import json       # library to convert JSON to Python data structures\n",
    "from time import sleep\n",
    "from datetime import date\n",
    "import datetime\n",
    "import csv        # library to read/write/parse CSV files\n",
    "\n",
    "# NCBI identification requirements:\n",
    "# tool name and email address should be sent with all requests\n",
    "# see https://www.ncbi.nlm.nih.gov/books/NBK25499/#chapter4.ESearch\n",
    "email_address = 'steve.baskauf@vanderbilt.edu' # put your email address here\n",
    "tool_name = 'VanderPub' # give your application a name here\n",
    "\n",
    "accept_mime = 'application/json'\n",
    "fetch_url = 'https://eutils.ncbi.nlm.nih.gov/entrez/eutils/esearch.fcgi'\n",
    "\n",
    "def retrieve_pubmed_data(fetch_url, accept_mime, email_address, tool_name, search_string):\n",
    "    header_dict = {\n",
    "        'Accept': accept_mime\n",
    "        }\n",
    "    param_dict = {\n",
    "        'tool': tool_name, \n",
    "        'email': email_address,\n",
    "        'db': 'pubmed', \n",
    "        'retmode': 'json', \n",
    "        'usehistory': 'n',\n",
    "        'retmax': '10000',\n",
    "        #'retmax': '2', # limit to 2 results when testing\n",
    "        'term': search_string\n",
    "        }\n",
    "    response = requests.get(fetch_url, headers=header_dict, params=param_dict)    \n",
    "    #print(response.url)\n",
    "    if response.status_code == 404:\n",
    "        pub_data = {} # return an empty dict if the constructed URL won't dereference\n",
    "    else:\n",
    "        pub_data = response.json()\n",
    "        #print(json.dumps(data, indent = 2)) # uncomment to look at returned JSON\n",
    "\n",
    "    # See https://www.ncbi.nlm.nih.gov/books/NBK25497/ for usage guidelines. \n",
    "    # An API key is required for more than 3 requests per second.\n",
    "    sleep(0.4) # wait 0.4 second before hitting the API again to avoid getting blocked\n",
    "    return pub_data\n",
    "\n",
    "def writeDictsToCsv(table, filename, fieldnames):\n",
    "    with open(filename, 'w', newline='', encoding='utf-8') as csv_file_object:\n",
    "        writer = csv.DictWriter(csv_file_object, fieldnames=fieldnames)\n",
    "        writer.writeheader()\n",
    "        for row in table:\n",
    "            writer.writerow(row)\n"
   ]
  },
  {
   "cell_type": "code",
   "execution_count": null,
   "metadata": {},
   "outputs": [],
   "source": [
    "# Determine today's date as a number\n",
    "today_day_of_year = date.today().timetuple().tm_yday\n",
    "print('day number today: ', today_day_of_year)\n",
    "\n",
    "# Determine day number for March 11\n",
    "march_11_day_of_year = datetime.date(2020, 3, 11).timetuple().tm_yday\n",
    "print('March 11 day number: ', march_11_day_of_year)\n",
    "\n",
    "year = 2020"
   ]
  },
  {
   "cell_type": "code",
   "execution_count": null,
   "metadata": {},
   "outputs": [],
   "source": [
    "results_list = []\n",
    "for days in range(march_11_day_of_year, today_day_of_year + 1):\n",
    "    iterated_date = datetime.datetime(year, 1, 1) + datetime.timedelta(days - 1)\n",
    "    iterated_date_string = iterated_date.strftime(\"%Y/%m/%d\")\n",
    "    \n",
    "    # settings for the initial search\n",
    "    search_string = '(coronavirus disease 2019 OR covid-19 OR Sars-CoV-2 OR severe acute respiratory syndrome coronavirus 2) AND ' + iterated_date_string + '[pdat]'\n",
    "\n",
    "    # get the results\n",
    "    data = retrieve_pubmed_data(fetch_url, accept_mime, email_address, tool_name, search_string)\n",
    "    idlist = data['esearchresult']['idlist']\n",
    "    print(iterated_date_string, len(idlist))\n",
    "    print()\n",
    "    dictionary = {'date': iterated_date_string, 'count': len(idlist)}\n",
    "    results_list.append(dictionary)\n",
    "\n",
    "writeDictsToCsv(results_list, 'covid_results.csv', ['date', 'count'])\n",
    "print('done')"
   ]
  },
  {
   "cell_type": "markdown",
   "metadata": {},
   "source": [
    "# This code was for testing a single search; don't run"
   ]
  },
  {
   "cell_type": "code",
   "execution_count": null,
   "metadata": {},
   "outputs": [],
   "source": [
    "# settings for the initial search\n",
    "search_string = '(coronavirus disease 2019 OR covid-19 OR Sars-CoV-2 OR severe acute respiratory syndrome coronavirus 2) AND 2020/10/06[pdat]'\n",
    "\n",
    "# get the results\n",
    "data = retrieve_pubmed_data(fetch_url, accept_mime, email_address, tool_name, search_string)\n",
    "print('done')"
   ]
  },
  {
   "cell_type": "code",
   "execution_count": null,
   "metadata": {},
   "outputs": [],
   "source": [
    "idlist = data['esearchresult']['idlist']\n",
    "print(len(idlist))\n",
    "print(idlist)"
   ]
  },
  {
   "cell_type": "code",
   "execution_count": null,
   "metadata": {},
   "outputs": [],
   "source": []
  }
 ],
 "metadata": {
  "kernelspec": {
   "display_name": "Python 3",
   "language": "python",
   "name": "python3"
  },
  "language_info": {
   "codemirror_mode": {
    "name": "ipython",
    "version": 3
   },
   "file_extension": ".py",
   "mimetype": "text/x-python",
   "name": "python",
   "nbconvert_exporter": "python",
   "pygments_lexer": "ipython3",
   "version": "3.7.1"
  }
 },
 "nbformat": 4,
 "nbformat_minor": 2
}

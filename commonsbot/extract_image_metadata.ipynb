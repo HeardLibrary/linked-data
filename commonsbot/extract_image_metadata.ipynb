{
 "cells": [
  {
   "cell_type": "code",
   "execution_count": null,
   "metadata": {},
   "outputs": [],
   "source": [
    "# Install a pip package in the current Jupyter kernel\n",
    "import sys\n",
    "!{sys.executable} -m pip install Pillow"
   ]
  },
  {
   "cell_type": "markdown",
   "metadata": {},
   "source": [
    "# Code to check dimensions of images\n",
    "\n"
   ]
  },
  {
   "cell_type": "code",
   "execution_count": null,
   "metadata": {},
   "outputs": [],
   "source": [
    "from PIL import Image\n",
    "from PIL.ExifTags import TAGS\n",
    "import os\n",
    "import datetime\n",
    "import csv\n",
    "import json\n",
    "import exifread # https://github.com/ianare/exif-py\n",
    "\n",
    "# function to use in sort of simple list\n",
    "def sort_funct(row):\n",
    "    return row\n",
    "\n",
    "# write a list of dictionaries to a CSV file\n",
    "def write_dicts_to_csv(table, filename, fieldnames):\n",
    "    with open(filename, 'w', newline='', encoding='utf-8') as csv_file_object:\n",
    "        writer = csv.DictWriter(csv_file_object, fieldnames=fieldnames)\n",
    "        writer.writeheader()\n",
    "        for row in table:\n",
    "            writer.writerow(row)\n",
    "\n",
    "def get_list_from_csv(filename):\n",
    "    line_list = []\n",
    "    with open(filename, 'rt', encoding='utf-8') as file_object:\n",
    "        for one_line in file_object:\n",
    "            line_list.append(one_line[:-1]) # remove dangling newline from end of line\n",
    "    return line_list\n",
    "\n",
    "working_directory = os.getcwd()\n",
    "#working_directory = str(Path.home()) # gets path to home directory\n",
    "image_dir = '/users/baskausj/gallery_digital_image_archive/'\n",
    "print(image_dir)\n",
    "\n",
    "# NOTE: do NOT open the suffixes.csv file with spreadsheet software unless you load the column as text! \n",
    "# Most software will do number conversions and mess up the spaces, parens, etc.\n",
    "suffixes = get_list_from_csv(working_directory + '/' + 'suffixes.csv')"
   ]
  },
  {
   "cell_type": "code",
   "execution_count": null,
   "metadata": {},
   "outputs": [],
   "source": [
    "print(suffixes)"
   ]
  },
  {
   "cell_type": "code",
   "execution_count": null,
   "metadata": {},
   "outputs": [],
   "source": [
    "\n",
    "old_subdir_names = os.listdir(image_dir)\n",
    "old_subdir_names.sort(key = sort_funct)\n",
    "subdir_names = []\n",
    "for subdir_name in old_subdir_names:\n",
    "    if subdir_name[0] != '.':\n",
    "        subdir_names.append(subdir_name)\n"
   ]
  },
  {
   "cell_type": "code",
   "execution_count": null,
   "metadata": {},
   "outputs": [],
   "source": [
    "print(subdir_names)"
   ]
  },
  {
   "cell_type": "code",
   "execution_count": null,
   "metadata": {},
   "outputs": [],
   "source": [
    "images = []\n",
    "for subdir_name in subdir_names:\n",
    "    #if subdir_name != '1999': # Uncomment to test with a single year\n",
    "    #    continue\n",
    "    image_subdir = image_dir + subdir_name\n",
    "    print(image_subdir)\n",
    "    items = os.listdir(image_subdir)\n",
    "    # list comprehension to extract only files from the listed items\n",
    "    image_names = [x for x in items if os.path.isfile(os.path.join(image_subdir, x))]\n",
    "    for image_name in image_names:\n",
    "        #if image_name != '1999.172ee.tif':\n",
    "        #    continue\n",
    "        if image_name[0] == '.': # skip hidden files\n",
    "            continue\n",
    "        image = {}\n",
    "        image['name'] = image_name\n",
    "        year = image_name[0:4]\n",
    "        rest = image_name[5:]\n",
    "        rest_pieces = rest.split('.') # separate into pieces by full stops\n",
    "        extension = rest_pieces[len(rest_pieces)-1] # the last piece will be the file extension\n",
    "        rest = '.'.join(rest_pieces[:-1]) # re-assemble the other pieces again, restoring the periods\n",
    "        # remove any suffix from the end of the accession string\n",
    "        no_suffix = True\n",
    "        for suffix in suffixes:\n",
    "            if len(rest) >= len(suffix) and suffix == rest[-len(suffix):]: # check if last part of string is equal to a given suffix\n",
    "                #print(rest, rest[:-len(suffix)])\n",
    "                no_suffix = False\n",
    "                accession = year + '.' + rest[:-len(suffix)] # add the rest of the string minus the suffix\n",
    "                break # stop checking suffixes\n",
    "        if no_suffix:\n",
    "            accession = year + '.' + rest\n",
    "        #print(image_name, accession)\n",
    "        image['accession'] = accession\n",
    "\n",
    "        image_path = image_subdir + '/' + image_name\n",
    "        # trap errors when the file isn't an image\n",
    "        try:\n",
    "            with Image.open(image_path) as img:\n",
    "                width, height = img.size\n",
    "        except:\n",
    "            width = 0\n",
    "            height = 0\n",
    "            \n",
    "        try:\n",
    "            # First try to get the actual image creation date from the EXIF\n",
    "            # Code from https://stackoverflow.com/questions/23064549/get-date-and-time-when-photo-was-taken-from-exif-data-using-pil\n",
    "            with open(image_path, 'rb') as fh:\n",
    "                tags = exifread.process_file(fh, stop_tag='EXIF DateTimeOriginal')\n",
    "                date_taken = tags['EXIF DateTimeOriginal']\n",
    "                create_date_string = str(date_taken)[:10].replace(':', '-')\n",
    "                #print('EXIF DateTimeOriginal', create_date_string)\n",
    "                if create_date_string == '0000-00-00':\n",
    "                    raise Exception('Bad date')\n",
    "                #print('image date')\n",
    "        except:\n",
    "            # If that's unavailable, then use the file creation date.\n",
    "            # Note: this code is Mac/Linux-specific and would need to be modified if run on Windows.\n",
    "            timestamp = os.stat(image_path).st_birthtime\n",
    "            time_object = datetime.datetime.fromtimestamp(timestamp)\n",
    "            create_date_string = time_object.strftime(\"%Y-%m-%d\")\n",
    "            #print('file date', create_date_string)\n",
    "            \n",
    "\n",
    "        if create_date_string == '1969-12-31':\n",
    "            timestamp = os.stat(image_path).st_mtime \n",
    "            time_object = datetime.datetime.fromtimestamp(timestamp)\n",
    "            create_date_string = time_object.strftime(\"%Y-%m-%d\")\n",
    "            #print('file modified', create_date_string)\n",
    "\n",
    "        #print(image_path, create_date_string)\n",
    "\n",
    "        #print(height, width)\n",
    "        #print()\n",
    "        image['kilobytes'] = round(os.path.getsize(image_path)/1024)\n",
    "        image['height'] = height\n",
    "        image['width'] = width\n",
    "        image['create_date'] = create_date_string\n",
    "        image['subdir'] = subdir_name\n",
    "        image['extension'] = extension\n",
    "        images.append(image)\n",
    "\n",
    "#print(json.dumps(images, indent=2))\n",
    "print('done')"
   ]
  },
  {
   "cell_type": "code",
   "execution_count": null,
   "metadata": {},
   "outputs": [],
   "source": [
    "print(len(images))"
   ]
  },
  {
   "cell_type": "code",
   "execution_count": null,
   "metadata": {},
   "outputs": [],
   "source": [
    "fieldnames = list(images[0].keys())\n",
    "write_dicts_to_csv(images, working_directory + '/' + 'image_dimensions.csv', fieldnames)\n",
    "\n",
    "print('done')"
   ]
  },
  {
   "cell_type": "markdown",
   "metadata": {},
   "source": [
    "Hack to replace 1969-12-31 with last modified date"
   ]
  },
  {
   "cell_type": "code",
   "execution_count": null,
   "metadata": {},
   "outputs": [],
   "source": [
    "import pandas as pd\n",
    "image_dimensions = pd.read_csv('image_dimensions.csv', na_filter=False, dtype = str)\n",
    "images = pd.read_csv('images.csv', na_filter=False, dtype = str)\n",
    "\n",
    "#images = images.head(200).copy(deep=True)\n",
    "\n",
    "for index, image in images.iterrows():\n",
    "    if image['create_date'] == '1969-12-31':\n",
    "        correct_date = image_dimensions.loc[image_dimensions['name'] == image['name']].loc[:,'create_date'].tolist()[0]\n",
    "        images.loc[images.index[index], 'create_date'] = correct_date\n",
    "        \n",
    "images.to_csv('images.csv', index = False)"
   ]
  },
  {
   "cell_type": "code",
   "execution_count": null,
   "metadata": {},
   "outputs": [],
   "source": []
  }
 ],
 "metadata": {
  "kernelspec": {
   "display_name": "Python 3",
   "language": "python",
   "name": "python3"
  },
  "language_info": {
   "codemirror_mode": {
    "name": "ipython",
    "version": 3
   },
   "file_extension": ".py",
   "mimetype": "text/x-python",
   "name": "python",
   "nbconvert_exporter": "python",
   "pygments_lexer": "ipython3",
   "version": "3.8.5"
  }
 },
 "nbformat": 4,
 "nbformat_minor": 2
}

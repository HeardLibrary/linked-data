{
 "cells": [
  {
   "cell_type": "markdown",
   "metadata": {},
   "source": [
    "# Script to convert generic TIFFs to pyramidal tiled\n",
    "\n",
    "See key post at https://legacy.imagemagick.org/discourse-server/viewtopic.php?t=20193 for background on using command-line ImageMagick to do the conversion."
   ]
  },
  {
   "cell_type": "code",
   "execution_count": null,
   "metadata": {},
   "outputs": [],
   "source": [
    "import os\n",
    "import pandas as pd\n",
    "\n",
    "source_image_root_directory = '/users/baskausj/gallery_digital_image_archive/'\n",
    "destination_image_root_directory = '/users/baskausj/gallery_pyramidal_tiffs/'\n",
    "\n",
    "image_data_frame = pd.read_csv('/users/baskausj/github/vandycite/gallery_works/image_upload/image_dimensions.csv')\n",
    "# Convert some columns to integers\n",
    "image_data_frame[['kilobytes', 'height', 'width']] = image_data_frame[['kilobytes', 'height', 'width']].astype(int)\n",
    "\n",
    "'''\n",
    "# For testing purposes, just use the first few rows of the works metadata\n",
    "test_rows = 4\n",
    "image_data_frame = image_data_frame.head(test_rows).copy()\n",
    "'''\n",
    "\n",
    "image_data_frame.head()\n"
   ]
  },
  {
   "cell_type": "code",
   "execution_count": null,
   "metadata": {},
   "outputs": [],
   "source": [
    "# Filter only rows that have one of the TIFF file extension variants\n",
    "tiff_alt_extensions = ['tif', 'TIF', 'tiff', 'TIFF']   \n",
    "tiffs_frame = image_data_frame[image_data_frame['extension'].isin(tiff_alt_extensions)]\n",
    "tiffs_frame.head()"
   ]
  },
  {
   "cell_type": "code",
   "execution_count": null,
   "metadata": {},
   "outputs": [],
   "source": [
    "# Basic conversion command is\n",
    "# os.system('convert 1979.0342P.tif -define tiff:tile-geometry=256x256 -depth 8 ptif:1979.0342P_tiled.tif')\n",
    "\n",
    "for index, image in tiffs_frame.iterrows():\n",
    "    in_path = source_image_root_directory + image['subdir'] + '/' + image['name']\n",
    "    \n",
    "    # Create the subdirectory if it doesn't already exist\n",
    "    os.makedirs(destination_image_root_directory + image['subdir'], exist_ok=True)\n",
    "    out_path = destination_image_root_directory + image['subdir'] + '/' + image['name']\n",
    "    print(image['name'])\n",
    "    \n",
    "    # Redirect (append) errors to a log file. Based on practical experience, most errors can be ignored.\n",
    "    # Note: need to enclose file paths in quotes because filenames sometimes include spaces.\n",
    "    command_string = 'convert \"' + in_path + '\" -define tiff:tile-geometry=256x256 -depth 8 ptif:\"' + out_path + '\" 2>> ~/gallery_image_conversion_log.txt'\n",
    "    #print(command_string)\n",
    "    os.system(command_string)\n",
    "\n",
    "print('done')"
   ]
  },
  {
   "cell_type": "code",
   "execution_count": null,
   "metadata": {},
   "outputs": [],
   "source": [
    "\n"
   ]
  }
 ],
 "metadata": {
  "kernelspec": {
   "display_name": "Python 3",
   "language": "python",
   "name": "python3"
  },
  "language_info": {
   "codemirror_mode": {
    "name": "ipython",
    "version": 3
   },
   "file_extension": ".py",
   "mimetype": "text/x-python",
   "name": "python",
   "nbconvert_exporter": "python",
   "pygments_lexer": "ipython3",
   "version": "3.8.5"
  }
 },
 "nbformat": 4,
 "nbformat_minor": 4
}
